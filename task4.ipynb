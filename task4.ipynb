{
  "nbformat": 4,
  "nbformat_minor": 0,
  "metadata": {
    "colab": {
      "provenance": [],
      "authorship_tag": "ABX9TyPeTDONZjSrUX//qLp5uQi8",
      "include_colab_link": true
    },
    "kernelspec": {
      "name": "python3",
      "display_name": "Python 3"
    },
    "language_info": {
      "name": "python"
    }
  },
  "cells": [
    {
      "cell_type": "markdown",
      "metadata": {
        "id": "view-in-github",
        "colab_type": "text"
      },
      "source": [
        "<a href=\"https://colab.research.google.com/github/UIT-21520916/NCKH/blob/task4/task4.ipynb\" target=\"_parent\"><img src=\"https://colab.research.google.com/assets/colab-badge.svg\" alt=\"Open In Colab\"/></a>"
      ]
    },
    {
      "cell_type": "code",
      "execution_count": 2,
      "metadata": {
        "id": "z6JEnGdGTyfZ"
      },
      "outputs": [],
      "source": [
        "\n",
        "import numpy as np\n",
        "import pandas as pd\n",
        "import glob\n",
        "import time\n",
        "import pandas as pd\n",
        "# from xml.dom import minidom\n",
        "\n",
        "\n",
        "import os\n",
        "import matplotlib.pyplot as plt\n",
        "import keras\n",
        "\n",
        "import cv2"
      ]
    },
    {
      "cell_type": "code",
      "source": [
        "df=pd.read_csv('/home/XSS_dataset.csv', encoding='utf-8-sig')\n",
        "# with open('/home/XSS_dataset.csv') as df:\n",
        "#   df = pd.read_csv(df, names=header_list)"
      ],
      "metadata": {
        "id": "vCywy7k1VSeA"
      },
      "execution_count": 4,
      "outputs": []
    },
    {
      "cell_type": "code",
      "source": [
        "df.head()"
      ],
      "metadata": {
        "colab": {
          "base_uri": "https://localhost:8080/",
          "height": 206
        },
        "id": "AepJ_PrHWOYX",
        "outputId": "a97f2f0a-5f07-4a46-8abe-9167c012de0c"
      },
      "execution_count": 5,
      "outputs": [
        {
          "output_type": "execute_result",
          "data": {
            "text/plain": [
              "   Unnamed: 0                                           Sentence  Label\n",
              "0           0  <li><a href=\"/wiki/File:Socrates.png\" class=\"i...      0\n",
              "1           1               <tt onmouseover=\"alert(1)\">test</tt>      1\n",
              "2           2  \\t </span> <span class=\"reference-text\">Steeri...      0\n",
              "3           3  \\t </span> <span class=\"reference-text\"><cite ...      0\n",
              "4           4  \\t </span>. <a href=\"/wiki/Digital_object_iden...      0"
            ],
            "text/html": [
              "\n",
              "  <div id=\"df-ccd73dae-a122-4228-a068-5b9a031aee0c\">\n",
              "    <div class=\"colab-df-container\">\n",
              "      <div>\n",
              "<style scoped>\n",
              "    .dataframe tbody tr th:only-of-type {\n",
              "        vertical-align: middle;\n",
              "    }\n",
              "\n",
              "    .dataframe tbody tr th {\n",
              "        vertical-align: top;\n",
              "    }\n",
              "\n",
              "    .dataframe thead th {\n",
              "        text-align: right;\n",
              "    }\n",
              "</style>\n",
              "<table border=\"1\" class=\"dataframe\">\n",
              "  <thead>\n",
              "    <tr style=\"text-align: right;\">\n",
              "      <th></th>\n",
              "      <th>Unnamed: 0</th>\n",
              "      <th>Sentence</th>\n",
              "      <th>Label</th>\n",
              "    </tr>\n",
              "  </thead>\n",
              "  <tbody>\n",
              "    <tr>\n",
              "      <th>0</th>\n",
              "      <td>0</td>\n",
              "      <td>&lt;li&gt;&lt;a href=\"/wiki/File:Socrates.png\" class=\"i...</td>\n",
              "      <td>0</td>\n",
              "    </tr>\n",
              "    <tr>\n",
              "      <th>1</th>\n",
              "      <td>1</td>\n",
              "      <td>&lt;tt onmouseover=\"alert(1)\"&gt;test&lt;/tt&gt;</td>\n",
              "      <td>1</td>\n",
              "    </tr>\n",
              "    <tr>\n",
              "      <th>2</th>\n",
              "      <td>2</td>\n",
              "      <td>\\t &lt;/span&gt; &lt;span class=\"reference-text\"&gt;Steeri...</td>\n",
              "      <td>0</td>\n",
              "    </tr>\n",
              "    <tr>\n",
              "      <th>3</th>\n",
              "      <td>3</td>\n",
              "      <td>\\t &lt;/span&gt; &lt;span class=\"reference-text\"&gt;&lt;cite ...</td>\n",
              "      <td>0</td>\n",
              "    </tr>\n",
              "    <tr>\n",
              "      <th>4</th>\n",
              "      <td>4</td>\n",
              "      <td>\\t &lt;/span&gt;. &lt;a href=\"/wiki/Digital_object_iden...</td>\n",
              "      <td>0</td>\n",
              "    </tr>\n",
              "  </tbody>\n",
              "</table>\n",
              "</div>\n",
              "      <button class=\"colab-df-convert\" onclick=\"convertToInteractive('df-ccd73dae-a122-4228-a068-5b9a031aee0c')\"\n",
              "              title=\"Convert this dataframe to an interactive table.\"\n",
              "              style=\"display:none;\">\n",
              "        \n",
              "  <svg xmlns=\"http://www.w3.org/2000/svg\" height=\"24px\"viewBox=\"0 0 24 24\"\n",
              "       width=\"24px\">\n",
              "    <path d=\"M0 0h24v24H0V0z\" fill=\"none\"/>\n",
              "    <path d=\"M18.56 5.44l.94 2.06.94-2.06 2.06-.94-2.06-.94-.94-2.06-.94 2.06-2.06.94zm-11 1L8.5 8.5l.94-2.06 2.06-.94-2.06-.94L8.5 2.5l-.94 2.06-2.06.94zm10 10l.94 2.06.94-2.06 2.06-.94-2.06-.94-.94-2.06-.94 2.06-2.06.94z\"/><path d=\"M17.41 7.96l-1.37-1.37c-.4-.4-.92-.59-1.43-.59-.52 0-1.04.2-1.43.59L10.3 9.45l-7.72 7.72c-.78.78-.78 2.05 0 2.83L4 21.41c.39.39.9.59 1.41.59.51 0 1.02-.2 1.41-.59l7.78-7.78 2.81-2.81c.8-.78.8-2.07 0-2.86zM5.41 20L4 18.59l7.72-7.72 1.47 1.35L5.41 20z\"/>\n",
              "  </svg>\n",
              "      </button>\n",
              "      \n",
              "  <style>\n",
              "    .colab-df-container {\n",
              "      display:flex;\n",
              "      flex-wrap:wrap;\n",
              "      gap: 12px;\n",
              "    }\n",
              "\n",
              "    .colab-df-convert {\n",
              "      background-color: #E8F0FE;\n",
              "      border: none;\n",
              "      border-radius: 50%;\n",
              "      cursor: pointer;\n",
              "      display: none;\n",
              "      fill: #1967D2;\n",
              "      height: 32px;\n",
              "      padding: 0 0 0 0;\n",
              "      width: 32px;\n",
              "    }\n",
              "\n",
              "    .colab-df-convert:hover {\n",
              "      background-color: #E2EBFA;\n",
              "      box-shadow: 0px 1px 2px rgba(60, 64, 67, 0.3), 0px 1px 3px 1px rgba(60, 64, 67, 0.15);\n",
              "      fill: #174EA6;\n",
              "    }\n",
              "\n",
              "    [theme=dark] .colab-df-convert {\n",
              "      background-color: #3B4455;\n",
              "      fill: #D2E3FC;\n",
              "    }\n",
              "\n",
              "    [theme=dark] .colab-df-convert:hover {\n",
              "      background-color: #434B5C;\n",
              "      box-shadow: 0px 1px 3px 1px rgba(0, 0, 0, 0.15);\n",
              "      filter: drop-shadow(0px 1px 2px rgba(0, 0, 0, 0.3));\n",
              "      fill: #FFFFFF;\n",
              "    }\n",
              "  </style>\n",
              "\n",
              "      <script>\n",
              "        const buttonEl =\n",
              "          document.querySelector('#df-ccd73dae-a122-4228-a068-5b9a031aee0c button.colab-df-convert');\n",
              "        buttonEl.style.display =\n",
              "          google.colab.kernel.accessAllowed ? 'block' : 'none';\n",
              "\n",
              "        async function convertToInteractive(key) {\n",
              "          const element = document.querySelector('#df-ccd73dae-a122-4228-a068-5b9a031aee0c');\n",
              "          const dataTable =\n",
              "            await google.colab.kernel.invokeFunction('convertToInteractive',\n",
              "                                                     [key], {});\n",
              "          if (!dataTable) return;\n",
              "\n",
              "          const docLinkHtml = 'Like what you see? Visit the ' +\n",
              "            '<a target=\"_blank\" href=https://colab.research.google.com/notebooks/data_table.ipynb>data table notebook</a>'\n",
              "            + ' to learn more about interactive tables.';\n",
              "          element.innerHTML = '';\n",
              "          dataTable['output_type'] = 'display_data';\n",
              "          await google.colab.output.renderOutput(dataTable, element);\n",
              "          const docLink = document.createElement('div');\n",
              "          docLink.innerHTML = docLinkHtml;\n",
              "          element.appendChild(docLink);\n",
              "        }\n",
              "      </script>\n",
              "    </div>\n",
              "  </div>\n",
              "  "
            ]
          },
          "metadata": {},
          "execution_count": 5
        }
      ]
    },
    {
      "cell_type": "code",
      "source": [
        "df=df[df.columns[-2:]]"
      ],
      "metadata": {
        "id": "ZPxMwTtBWOh5"
      },
      "execution_count": 6,
      "outputs": []
    },
    {
      "cell_type": "code",
      "source": [
        "df.head()"
      ],
      "metadata": {
        "colab": {
          "base_uri": "https://localhost:8080/",
          "height": 206
        },
        "id": "bkyK5-f8WOj5",
        "outputId": "c6f16818-39ac-4dbf-e875-c02b24378113"
      },
      "execution_count": 7,
      "outputs": [
        {
          "output_type": "execute_result",
          "data": {
            "text/plain": [
              "                                            Sentence  Label\n",
              "0  <li><a href=\"/wiki/File:Socrates.png\" class=\"i...      0\n",
              "1               <tt onmouseover=\"alert(1)\">test</tt>      1\n",
              "2  \\t </span> <span class=\"reference-text\">Steeri...      0\n",
              "3  \\t </span> <span class=\"reference-text\"><cite ...      0\n",
              "4  \\t </span>. <a href=\"/wiki/Digital_object_iden...      0"
            ],
            "text/html": [
              "\n",
              "  <div id=\"df-99ef221f-b44d-46ae-855f-e47444813cd6\">\n",
              "    <div class=\"colab-df-container\">\n",
              "      <div>\n",
              "<style scoped>\n",
              "    .dataframe tbody tr th:only-of-type {\n",
              "        vertical-align: middle;\n",
              "    }\n",
              "\n",
              "    .dataframe tbody tr th {\n",
              "        vertical-align: top;\n",
              "    }\n",
              "\n",
              "    .dataframe thead th {\n",
              "        text-align: right;\n",
              "    }\n",
              "</style>\n",
              "<table border=\"1\" class=\"dataframe\">\n",
              "  <thead>\n",
              "    <tr style=\"text-align: right;\">\n",
              "      <th></th>\n",
              "      <th>Sentence</th>\n",
              "      <th>Label</th>\n",
              "    </tr>\n",
              "  </thead>\n",
              "  <tbody>\n",
              "    <tr>\n",
              "      <th>0</th>\n",
              "      <td>&lt;li&gt;&lt;a href=\"/wiki/File:Socrates.png\" class=\"i...</td>\n",
              "      <td>0</td>\n",
              "    </tr>\n",
              "    <tr>\n",
              "      <th>1</th>\n",
              "      <td>&lt;tt onmouseover=\"alert(1)\"&gt;test&lt;/tt&gt;</td>\n",
              "      <td>1</td>\n",
              "    </tr>\n",
              "    <tr>\n",
              "      <th>2</th>\n",
              "      <td>\\t &lt;/span&gt; &lt;span class=\"reference-text\"&gt;Steeri...</td>\n",
              "      <td>0</td>\n",
              "    </tr>\n",
              "    <tr>\n",
              "      <th>3</th>\n",
              "      <td>\\t &lt;/span&gt; &lt;span class=\"reference-text\"&gt;&lt;cite ...</td>\n",
              "      <td>0</td>\n",
              "    </tr>\n",
              "    <tr>\n",
              "      <th>4</th>\n",
              "      <td>\\t &lt;/span&gt;. &lt;a href=\"/wiki/Digital_object_iden...</td>\n",
              "      <td>0</td>\n",
              "    </tr>\n",
              "  </tbody>\n",
              "</table>\n",
              "</div>\n",
              "      <button class=\"colab-df-convert\" onclick=\"convertToInteractive('df-99ef221f-b44d-46ae-855f-e47444813cd6')\"\n",
              "              title=\"Convert this dataframe to an interactive table.\"\n",
              "              style=\"display:none;\">\n",
              "        \n",
              "  <svg xmlns=\"http://www.w3.org/2000/svg\" height=\"24px\"viewBox=\"0 0 24 24\"\n",
              "       width=\"24px\">\n",
              "    <path d=\"M0 0h24v24H0V0z\" fill=\"none\"/>\n",
              "    <path d=\"M18.56 5.44l.94 2.06.94-2.06 2.06-.94-2.06-.94-.94-2.06-.94 2.06-2.06.94zm-11 1L8.5 8.5l.94-2.06 2.06-.94-2.06-.94L8.5 2.5l-.94 2.06-2.06.94zm10 10l.94 2.06.94-2.06 2.06-.94-2.06-.94-.94-2.06-.94 2.06-2.06.94z\"/><path d=\"M17.41 7.96l-1.37-1.37c-.4-.4-.92-.59-1.43-.59-.52 0-1.04.2-1.43.59L10.3 9.45l-7.72 7.72c-.78.78-.78 2.05 0 2.83L4 21.41c.39.39.9.59 1.41.59.51 0 1.02-.2 1.41-.59l7.78-7.78 2.81-2.81c.8-.78.8-2.07 0-2.86zM5.41 20L4 18.59l7.72-7.72 1.47 1.35L5.41 20z\"/>\n",
              "  </svg>\n",
              "      </button>\n",
              "      \n",
              "  <style>\n",
              "    .colab-df-container {\n",
              "      display:flex;\n",
              "      flex-wrap:wrap;\n",
              "      gap: 12px;\n",
              "    }\n",
              "\n",
              "    .colab-df-convert {\n",
              "      background-color: #E8F0FE;\n",
              "      border: none;\n",
              "      border-radius: 50%;\n",
              "      cursor: pointer;\n",
              "      display: none;\n",
              "      fill: #1967D2;\n",
              "      height: 32px;\n",
              "      padding: 0 0 0 0;\n",
              "      width: 32px;\n",
              "    }\n",
              "\n",
              "    .colab-df-convert:hover {\n",
              "      background-color: #E2EBFA;\n",
              "      box-shadow: 0px 1px 2px rgba(60, 64, 67, 0.3), 0px 1px 3px 1px rgba(60, 64, 67, 0.15);\n",
              "      fill: #174EA6;\n",
              "    }\n",
              "\n",
              "    [theme=dark] .colab-df-convert {\n",
              "      background-color: #3B4455;\n",
              "      fill: #D2E3FC;\n",
              "    }\n",
              "\n",
              "    [theme=dark] .colab-df-convert:hover {\n",
              "      background-color: #434B5C;\n",
              "      box-shadow: 0px 1px 3px 1px rgba(0, 0, 0, 0.15);\n",
              "      filter: drop-shadow(0px 1px 2px rgba(0, 0, 0, 0.3));\n",
              "      fill: #FFFFFF;\n",
              "    }\n",
              "  </style>\n",
              "\n",
              "      <script>\n",
              "        const buttonEl =\n",
              "          document.querySelector('#df-99ef221f-b44d-46ae-855f-e47444813cd6 button.colab-df-convert');\n",
              "        buttonEl.style.display =\n",
              "          google.colab.kernel.accessAllowed ? 'block' : 'none';\n",
              "\n",
              "        async function convertToInteractive(key) {\n",
              "          const element = document.querySelector('#df-99ef221f-b44d-46ae-855f-e47444813cd6');\n",
              "          const dataTable =\n",
              "            await google.colab.kernel.invokeFunction('convertToInteractive',\n",
              "                                                     [key], {});\n",
              "          if (!dataTable) return;\n",
              "\n",
              "          const docLinkHtml = 'Like what you see? Visit the ' +\n",
              "            '<a target=\"_blank\" href=https://colab.research.google.com/notebooks/data_table.ipynb>data table notebook</a>'\n",
              "            + ' to learn more about interactive tables.';\n",
              "          element.innerHTML = '';\n",
              "          dataTable['output_type'] = 'display_data';\n",
              "          await google.colab.output.renderOutput(dataTable, element);\n",
              "          const docLink = document.createElement('div');\n",
              "          docLink.innerHTML = docLinkHtml;\n",
              "          element.appendChild(docLink);\n",
              "        }\n",
              "      </script>\n",
              "    </div>\n",
              "  </div>\n",
              "  "
            ]
          },
          "metadata": {},
          "execution_count": 7
        }
      ]
    },
    {
      "cell_type": "code",
      "source": [
        "df.shape\n",
        "df.info()\n",
        "print(df)"
      ],
      "metadata": {
        "colab": {
          "base_uri": "https://localhost:8080/"
        },
        "id": "wdzT-WERWOmC",
        "outputId": "17e046f0-542b-4627-e5a8-b5fbc1e129c2"
      },
      "execution_count": 8,
      "outputs": [
        {
          "output_type": "stream",
          "name": "stdout",
          "text": [
            "<class 'pandas.core.frame.DataFrame'>\n",
            "RangeIndex: 13686 entries, 0 to 13685\n",
            "Data columns (total 2 columns):\n",
            " #   Column    Non-Null Count  Dtype \n",
            "---  ------    --------------  ----- \n",
            " 0   Sentence  13686 non-null  object\n",
            " 1   Label     13686 non-null  int64 \n",
            "dtypes: int64(1), object(1)\n",
            "memory usage: 214.0+ KB\n",
            "                                                Sentence  Label\n",
            "0      <li><a href=\"/wiki/File:Socrates.png\" class=\"i...      0\n",
            "1                   <tt onmouseover=\"alert(1)\">test</tt>      1\n",
            "2      \\t </span> <span class=\"reference-text\">Steeri...      0\n",
            "3      \\t </span> <span class=\"reference-text\"><cite ...      0\n",
            "4      \\t </span>. <a href=\"/wiki/Digital_object_iden...      0\n",
            "...                                                  ...    ...\n",
            "13681             <img onpointerenter=alert(1)>XSS</img>      1\n",
            "13682  <source onbeforepaste=\"alert(1)\" contenteditab...      1\n",
            "13683  <div draggable=\"true\" contenteditable>drag me<...      1\n",
            "13684  <li><cite id=\"CITEREFDomingos2015\" class=\"cita...      0\n",
            "13685                                         \\t </span>      0\n",
            "\n",
            "[13686 rows x 2 columns]\n"
          ]
        }
      ]
    },
    {
      "cell_type": "code",
      "source": [
        "# Convert to ASCII\n",
        "\n",
        "def convert_to_ascii(sentence):\n",
        "    sentence_ascii=[]\n",
        "\n",
        "    for i in sentence:\n",
        "        \n",
        "        \"\"\"Some characters have values very big e.d 8221 adn some are chinese letters\n",
        "        I am removing letters having values greater than 8222 and for rest greater \n",
        "        than 128 and smaller than 8222 assigning them values so they can easily be normalized\"\"\"\n",
        "       \n",
        "        if(ord(i)<8222):      # ” has ASCII of 8221\n",
        "            \n",
        "            if(ord(i)==8217): # ’  :  8217\n",
        "                sentence_ascii.append(134)\n",
        "            \n",
        "            \n",
        "            if(ord(i)==8221): # ”  :  8221\n",
        "                sentence_ascii.append(129)\n",
        "                \n",
        "            if(ord(i)==8220): # “  :  8220\n",
        "                sentence_ascii.append(130)\n",
        "                \n",
        "                \n",
        "            if(ord(i)==8216): # ‘  :  8216\n",
        "                sentence_ascii.append(131)\n",
        "                \n",
        "            if(ord(i)==8217): # ’  :  8217\n",
        "                sentence_ascii.append(132)\n",
        "            \n",
        "            if(ord(i)==8211): # –  :  8211\n",
        "                sentence_ascii.append(133)\n",
        "                \n",
        "                \n",
        "            \"\"\"\n",
        "            If values less than 128 store them else discard them\n",
        "            \"\"\"\n",
        "            if (ord(i)<=128):\n",
        "                    sentence_ascii.append(ord(i))\n",
        "    \n",
        "            else:\n",
        "                    pass\n",
        "            \n",
        "\n",
        "    zer=np.zeros((10000))\n",
        "\n",
        "    for i in range(len(sentence_ascii)):\n",
        "        zer[i]=sentence_ascii[i]\n",
        "\n",
        "    zer.shape=(100, 100)\n",
        "\n",
        "\n",
        "#     plt.plot(image)\n",
        "#     plt.show()\n",
        "    return zer\n"
      ],
      "metadata": {
        "id": "JqXcmoLIWOoJ"
      },
      "execution_count": 9,
      "outputs": []
    },
    {
      "cell_type": "code",
      "source": [
        "\n",
        "\n",
        "# send each sentence to be converted to ASCII\n",
        "\n",
        "\n",
        "arr=np.zeros((df.shape[0],100,100)) # 1 mảng gồm len(sentences) mảng (100x100)\n",
        "arr1=np.zeros((df.shape[0],100,100))\n",
        "for i in range(df.shape[0]):\n",
        "    \n",
        "    image=convert_to_ascii(df['Sentence'][i]) \n",
        "\n",
        "    # arr1[i]=np.array(image,dtype='float')\n",
        "\n",
        "    x=np.asarray(image,dtype='float') #khi mà image thay đổi thì x cũng thay đổi theo\n",
        "    image =  cv2.resize(x, dsize=(100,100), interpolation=cv2.INTER_CUBIC)\n",
        "    # tại sao phải resize khi mà dsize không thay đổi\n",
        "\n",
        "\n",
        "    image/=128\n",
        "\n",
        "    \n",
        "#     if i==1:\n",
        "#         plt.plot(image)\n",
        "#         plt.show()    \n",
        "    arr[i]=image\n",
        "\n"
      ],
      "metadata": {
        "id": "wF4OFJE0WOqF"
      },
      "execution_count": 33,
      "outputs": []
    },
    {
      "cell_type": "code",
      "source": [
        "print(arr[3])\n",
        "# print(arr1[3]) "
      ],
      "metadata": {
        "colab": {
          "base_uri": "https://localhost:8080/"
        },
        "id": "IK0s-lVYpW1S",
        "outputId": "433fa866-9f4a-4948-bcf8-b1943d25eaf0"
      },
      "execution_count": 34,
      "outputs": [
        {
          "output_type": "stream",
          "name": "stdout",
          "text": [
            "[[0.0703125 0.25      0.46875   ... 0.7578125 0.84375   0.25     ]\n",
            " [0.90625   0.7890625 0.9375    ... 0.90625   0.9140625 0.890625 ]\n",
            " [0.7890625 0.25      0.6171875 ... 0.78125   0.9140625 0.7734375]\n",
            " ...\n",
            " [0.        0.        0.        ... 0.        0.        0.       ]\n",
            " [0.        0.        0.        ... 0.        0.        0.       ]\n",
            " [0.        0.        0.        ... 0.        0.        0.       ]]\n",
            "[[  9.  32.  60. ...  97. 108.  32.]\n",
            " [116. 101. 120. ... 116. 117. 114.]\n",
            " [101.  32.  79. ... 100. 117.  99.]\n",
            " ...\n",
            " [  0.   0.   0. ...   0.   0.   0.]\n",
            " [  0.   0.   0. ...   0.   0.   0.]\n",
            " [  0.   0.   0. ...   0.   0.   0.]]\n"
          ]
        }
      ]
    },
    {
      "cell_type": "code",
      "source": [
        "print(\"Input data shape : \", arr.shape)"
      ],
      "metadata": {
        "colab": {
          "base_uri": "https://localhost:8080/"
        },
        "id": "AMuRcOTztxAb",
        "outputId": "a40bcb97-a66f-4df4-b4d3-91c245417cc1"
      },
      "execution_count": 35,
      "outputs": [
        {
          "output_type": "stream",
          "name": "stdout",
          "text": [
            "Input data shape :  (13686, 100, 100)\n"
          ]
        }
      ]
    },
    {
      "cell_type": "code",
      "source": [
        "# Reshape data for input to CNN\n",
        "data = arr.reshape(arr.shape[0], 100, 100, 1)"
      ],
      "metadata": {
        "id": "gh8JT6AHt3vz"
      },
      "execution_count": 36,
      "outputs": []
    },
    {
      "cell_type": "code",
      "source": [
        "data.shape"
      ],
      "metadata": {
        "colab": {
          "base_uri": "https://localhost:8080/"
        },
        "id": "QChrOjIwt4-6",
        "outputId": "730fa363-6010-4978-d51a-56db224fe86b"
      },
      "execution_count": 37,
      "outputs": [
        {
          "output_type": "execute_result",
          "data": {
            "text/plain": [
              "(13686, 100, 100, 1)"
            ]
          },
          "metadata": {},
          "execution_count": 37
        }
      ]
    },
    {
      "cell_type": "code",
      "source": [
        "y=df['Label'].values"
      ],
      "metadata": {
        "id": "w92SssT5t9tS"
      },
      "execution_count": 38,
      "outputs": []
    }
  ]
}