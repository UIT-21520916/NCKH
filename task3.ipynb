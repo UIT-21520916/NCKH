{
  "nbformat": 4,
  "nbformat_minor": 0,
  "metadata": {
    "colab": {
      "provenance": [],
      "authorship_tag": "ABX9TyMstJJKldjfSE6l+ikCTMYO",
      "include_colab_link": true
    },
    "kernelspec": {
      "name": "python3",
      "display_name": "Python 3"
    },
    "language_info": {
      "name": "python"
    }
  },
  "cells": [
    {
      "cell_type": "markdown",
      "metadata": {
        "id": "view-in-github",
        "colab_type": "text"
      },
      "source": [
        "<a href=\"https://colab.research.google.com/github/UIT-21520916/NCKH/blob/task3/task3.ipynb\" target=\"_parent\"><img src=\"https://colab.research.google.com/assets/colab-badge.svg\" alt=\"Open In Colab\"/></a>"
      ]
    },
    {
      "cell_type": "code",
      "execution_count": 128,
      "metadata": {
        "id": "O8ArCV3Gj5b_"
      },
      "outputs": [],
      "source": [
        "import numpy as np \n",
        "import pandas as pd \n",
        "import os, re, time, math, tqdm, itertools\n",
        "import matplotlib.pyplot as plt\n",
        "import seaborn as sns\n",
        "import array as arr\n",
        "import warnings\n",
        "from importlib import reload\n",
        "import plotly.express as px\n",
        "import plotly.offline as pyo\n",
        "from sklearn.model_selection import train_test_split\n",
        "from sklearn.preprocessing import MinMaxScaler\n",
        "from sklearn.ensemble import RandomForestClassifier\n",
        "from sklearn.preprocessing import LabelEncoder\n",
        "from sklearn.neural_network import MLPClassifier\n",
        "import keras\n",
        "from keras.layers import Conv2D, Conv1D, MaxPooling2D, MaxPooling1D, Flatten, BatchNormalization, Dense\n",
        "from keras.utils.np_utils import to_categorical\n",
        "from keras.models import Sequential\n",
        "from keras.callbacks import CSVLogger, ModelCheckpoint\n",
        "\n",
        "pd.set_option('display.max_columns', None) \n",
        "pd.set_option('display.max_rows', 500) \n",
        "pd.set_option('display.expand_frame_repr', False)\n",
        "pd.set_option('max_colwidth', None)\n",
        "\n",
        "warnings.filterwarnings('ignore')"
      ]
    },
    {
      "cell_type": "code",
      "source": [
        "\n",
        "header_list =['srcip','sport','dstip','dsport','proto','state','dur','sbytes','dbytes','sttl','dttl','sloss','dloss','service','Sload','Dload','Spkts','Dpkts','swin','dwin','stcpb','dtcpb','smeansz','dmeansz','trans_depth','res_bdy_len','Sjit','Djit','Stime','Ltime','Sintpkt','Dintpkt','tcprtt','synack','ackdat','is_sm_ips_ports','ct_state_ttl','ct_flw_http_mthd','is_ftp_login','ct_ftp_cmd','ct_srv_src','ct_srv_dst','ct_dst_ltm','ct_src_ltm','ct_src_dport_ltm','ct_dst_sport_ltm','ct_dst_src_ltm','attack_cat','Label']\n",
        "\n",
        "with open('/home/UNSW-NB15_1.csv') as f1:\n",
        "  d1 = pd.read_csv(f1, names=header_list)\n",
        " \n",
        "with open('/home/UNSW-NB15_2.csv') as f2:\n",
        "  d2 = pd.read_csv(f2, names=header_list)\n",
        "\n",
        "data1=pd.concat([d1,d2],axis=0, ignore_index=True)\n",
        "\n",
        "with open('/home/UNSW-NB15_3.csv') as f3:\n",
        "  d3 = pd.read_csv(f3, names=header_list)\n",
        "with open('/home/UNSW-NB15_4.csv') as f4:\n",
        "  d4 = pd.read_csv(f4, names=header_list )\n",
        "\n",
        "data2=pd.concat([d3,d4],axis=0, ignore_index=True)\n",
        "\n",
        "data=pd.concat([data1,data2],axis=0, ignore_index=True)\n",
        "network_data=data\n",
        "print(network_data)\n",
        "# network_data.to_csv('/home/output.csv', index=False)  "
      ],
      "metadata": {
        "colab": {
          "base_uri": "https://localhost:8080/"
        },
        "id": "MjHwwFxIkQeF",
        "outputId": "319f26d5-fcaf-4db8-be48-cae6d5829ca4"
      },
      "execution_count": 129,
      "outputs": [
        {
          "output_type": "stream",
          "name": "stdout",
          "text": [
            "                srcip  sport           dstip dsport proto state       dur  sbytes  dbytes  sttl  dttl  sloss  dloss   service          Sload          Dload  Spkts  Dpkts  swin  dwin       stcpb       dtcpb  smeansz  dmeansz  trans_depth  res_bdy_len          Sjit         Djit       Stime       Ltime     Sintpkt     Dintpkt    tcprtt    synack    ackdat  is_sm_ips_ports  ct_state_ttl  ct_flw_http_mthd  is_ftp_login ct_ftp_cmd  ct_srv_src  ct_srv_dst  ct_dst_ltm  ct_src_ltm  ct_src_dport_ltm  ct_dst_sport_ltm  ct_dst_src_ltm attack_cat  Label\n",
            "0          59.166.0.0   1390   149.171.126.6     53   udp   CON  0.001055     132     164    31    29      0      0       dns  500473.937500  621800.937500      2      2     0     0           0           0       66       82            0            0      0.000000     0.000000  1421927414  1421927414    0.017000    0.013000  0.000000  0.000000  0.000000                0             0               0.0           0.0          0           3           7           1           3                 1                 1               1        NaN      0\n",
            "1          59.166.0.0  33661   149.171.126.9   1024   udp   CON  0.036133     528     304    31    29      0      0         -   87676.085940   50480.171880      4      4     0     0           0           0      132       76            0            0      9.891010    10.682733  1421927414  1421927414    7.005000    7.564333  0.000000  0.000000  0.000000                0             0               0.0           0.0          0           2           4           2           3                 1                 1               2        NaN      0\n",
            "2          59.166.0.6   1464   149.171.126.7     53   udp   CON  0.001119     146     178    31    29      0      0       dns  521894.531300  636282.375000      2      2     0     0           0           0       73       89            0            0      0.000000     0.000000  1421927414  1421927414    0.017000    0.013000  0.000000  0.000000  0.000000                0             0               0.0           0.0          0          12           8           1           2                 2                 1               1        NaN      0\n",
            "3          59.166.0.5   3593   149.171.126.5     53   udp   CON  0.001209     132     164    31    29      0      0       dns  436724.562500  542597.187500      2      2     0     0           0           0       66       82            0            0      0.000000     0.000000  1421927414  1421927414    0.043000    0.014000  0.000000  0.000000  0.000000                0             0               0.0           0.0          0           6           9           1           1                 1                 1               1        NaN      0\n",
            "4          59.166.0.3  49664   149.171.126.0     53   udp   CON  0.001169     146     178    31    29      0      0       dns  499572.250000  609067.562500      2      2     0     0           0           0       73       89            0            0      0.000000     0.000000  1421927414  1421927414    0.005000    0.003000  0.000000  0.000000  0.000000                0             0               0.0           0.0          0           7           9           1           1                 1                 1               1        NaN      0\n",
            "...               ...    ...             ...    ...   ...   ...       ...     ...     ...   ...   ...    ...    ...       ...            ...            ...    ...    ...   ...   ...         ...         ...      ...      ...          ...          ...           ...          ...         ...         ...         ...         ...       ...       ...       ...              ...           ...               ...           ...        ...         ...         ...         ...         ...               ...               ...             ...        ...    ...\n",
            "2540042    59.166.0.5  33094   149.171.126.7  43433   tcp   FIN  0.087306     320    1828    31    29      1      2  ftp-data   24465.671880  146610.765600      6      8   255   255  4035116044   222196311       53      229            0            0   1221.136547    30.096029  1424262068  1424262069   17.394400   12.405143  0.000608  0.000468  0.000140                0             0               NaN           NaN                      1           2           3           3                 1                 1               3        NaN      0\n",
            "2540043    59.166.0.7  20848   149.171.126.4     21   tcp   CON  0.365058     456     346    31    29      2      2       ftp    8743.816406    6333.240234      8      6   255   255  1529727621   185369967       57       58            0            0   3961.093354   129.038367  1424262068  1424262069   51.976999   72.915602  0.000609  0.000477  0.000132                0             0               NaN           2.0          2           2           2           2           2                 2                 2               2        NaN      0\n",
            "2540044    59.166.0.3  21511   149.171.126.9     21   tcp   CON  6.335154    1802    2088    31    29      7      9       ftp    2204.839844    2549.582764     32     30   255   255   497208793   889904111       56       70            0            0  13233.728560   379.052750  1424262062  1424262069  204.359814  214.372375  0.000617  0.000485  0.000132                0             0               NaN           2.0          2           2           2           4           2                 2                 2               2        NaN      0\n",
            "2540045    59.166.0.9  35433   149.171.126.0     80   tcp   CON  2.200934    3498  166054    31    29      2     57      http   12496.513670  598375.062500     58    116   255   255  1289728069  3436097151       60     1432            1        79745   2868.893137  1951.035944  1424262067  1424262069   38.609700   19.133826  0.000680  0.000541  0.000139                0             0               2.0           NaN                      1           1           2           4                 2                 2               2        NaN      0\n",
            "2540046  175.45.176.0  17293  149.171.126.17    110   tcp   CON  0.942984     574     676    62   252      5      6      pop3    4470.913574    5259.898438     12     12   255   255  3026824982  3748412468       48       56            0            0   3903.523582    95.650531  1424262068  1424262069   79.714089   80.827180  0.139446  0.053884  0.085562                0             3               NaN           NaN                      1           1           2           4                 2                 2               2   Exploits      1\n",
            "\n",
            "[2540047 rows x 49 columns]\n"
          ]
        }
      ]
    },
    {
      "cell_type": "code",
      "source": [
        "# check the shape of data\n",
        "network_data.shape\n",
        "# check the number of rows and columns\n",
        "print('Number of Rows (Samples): %s' % str((network_data.shape[0])))\n",
        "print('Number of Columns (Features): %s' % str((network_data.shape[1])))"
      ],
      "metadata": {
        "colab": {
          "base_uri": "https://localhost:8080/"
        },
        "id": "IqjNNTt5lbci",
        "outputId": "0cc74a12-209b-4351-f486-e52ede725ae9"
      },
      "execution_count": 130,
      "outputs": [
        {
          "output_type": "stream",
          "name": "stdout",
          "text": [
            "Number of Rows (Samples): 2540047\n",
            "Number of Columns (Features): 49\n"
          ]
        }
      ]
    },
    {
      "cell_type": "code",
      "source": [
        "network_data.info()"
      ],
      "metadata": {
        "colab": {
          "base_uri": "https://localhost:8080/"
        },
        "id": "lzXIp_qYlhMl",
        "outputId": "4fcb859d-e26d-4ffe-e24d-0af7a3f3bf6f"
      },
      "execution_count": 131,
      "outputs": [
        {
          "output_type": "stream",
          "name": "stdout",
          "text": [
            "<class 'pandas.core.frame.DataFrame'>\n",
            "RangeIndex: 2540047 entries, 0 to 2540046\n",
            "Data columns (total 49 columns):\n",
            " #   Column            Dtype  \n",
            "---  ------            -----  \n",
            " 0   srcip             object \n",
            " 1   sport             object \n",
            " 2   dstip             object \n",
            " 3   dsport            object \n",
            " 4   proto             object \n",
            " 5   state             object \n",
            " 6   dur               float64\n",
            " 7   sbytes            int64  \n",
            " 8   dbytes            int64  \n",
            " 9   sttl              int64  \n",
            " 10  dttl              int64  \n",
            " 11  sloss             int64  \n",
            " 12  dloss             int64  \n",
            " 13  service           object \n",
            " 14  Sload             float64\n",
            " 15  Dload             float64\n",
            " 16  Spkts             int64  \n",
            " 17  Dpkts             int64  \n",
            " 18  swin              int64  \n",
            " 19  dwin              int64  \n",
            " 20  stcpb             int64  \n",
            " 21  dtcpb             int64  \n",
            " 22  smeansz           int64  \n",
            " 23  dmeansz           int64  \n",
            " 24  trans_depth       int64  \n",
            " 25  res_bdy_len       int64  \n",
            " 26  Sjit              float64\n",
            " 27  Djit              float64\n",
            " 28  Stime             int64  \n",
            " 29  Ltime             int64  \n",
            " 30  Sintpkt           float64\n",
            " 31  Dintpkt           float64\n",
            " 32  tcprtt            float64\n",
            " 33  synack            float64\n",
            " 34  ackdat            float64\n",
            " 35  is_sm_ips_ports   int64  \n",
            " 36  ct_state_ttl      int64  \n",
            " 37  ct_flw_http_mthd  float64\n",
            " 38  is_ftp_login      float64\n",
            " 39  ct_ftp_cmd        object \n",
            " 40  ct_srv_src        int64  \n",
            " 41  ct_srv_dst        int64  \n",
            " 42  ct_dst_ltm        int64  \n",
            " 43  ct_src_ltm        int64  \n",
            " 44  ct_src_dport_ltm  int64  \n",
            " 45  ct_dst_sport_ltm  int64  \n",
            " 46  ct_dst_src_ltm    int64  \n",
            " 47  attack_cat        object \n",
            " 48  Label             int64  \n",
            "dtypes: float64(12), int64(28), object(9)\n",
            "memory usage: 949.6+ MB\n"
          ]
        }
      ]
    },
    {
      "cell_type": "code",
      "source": [
        "network_data['Label'].value_counts()"
      ],
      "metadata": {
        "colab": {
          "base_uri": "https://localhost:8080/"
        },
        "id": "G7FivdzKrrAt",
        "outputId": "c65bcf7c-dc0e-4d2b-b98c-9ecdc9024ec3"
      },
      "execution_count": 132,
      "outputs": [
        {
          "output_type": "execute_result",
          "data": {
            "text/plain": [
              "0    2218764\n",
              "1     321283\n",
              "Name: Label, dtype: int64"
            ]
          },
          "metadata": {},
          "execution_count": 132
        }
      ]
    },
    {
      "cell_type": "code",
      "source": [
        "# make a plot number of labels\n",
        "sns.set(rc={'figure.figsize':(8, 4)})\n",
        "plt.xlabel('Status')\n",
        "sns.set_theme()\n",
        "ax = sns.countplot(x='Label', data=network_data)\n",
        "ax.set(xlabel='Normal or Attacked', ylabel='Number of label')\n",
        "plt.show()"
      ],
      "metadata": {
        "colab": {
          "base_uri": "https://localhost:8080/",
          "height": 296
        },
        "id": "9Q2Pdy2rr9j1",
        "outputId": "84202d65-86a2-48e4-c34d-fbdf37c917a4"
      },
      "execution_count": 133,
      "outputs": [
        {
          "output_type": "display_data",
          "data": {
            "text/plain": [
              "<Figure size 576x288 with 1 Axes>"
            ],
            "image/png": "[encoded data removed]"
          },
          "metadata": {}
        }
      ]
    },
    {
      "cell_type": "code",
      "source": [
        "# check for some null or missing values in our dataset\n",
        "network_data.isna().sum().to_numpy()"
      ],
      "metadata": {
        "colab": {
          "base_uri": "https://localhost:8080/"
        },
        "id": "Rvx4O9aEsq__",
        "outputId": "f2f11ac4-4b70-40be-e7e9-699ea1b9890d"
      },
      "execution_count": 134,
      "outputs": [
        {
          "output_type": "execute_result",
          "data": {
            "text/plain": [
              "array([      0,       0,       0,       0,       0,       0,       0,\n",
              "             0,       0,       0,       0,       0,       0,       0,\n",
              "             0,       0,       0,       0,       0,       0,       0,\n",
              "             0,       0,       0,       0,       0,       0,       0,\n",
              "             0,       0,       0,       0,       0,       0,       0,\n",
              "             0,       0, 1348145, 1429879,       0,       0,       0,\n",
              "             0,       0,       0,       0,       0, 2218764,       0])"
            ]
          },
          "metadata": {},
          "execution_count": 134
        }
      ]
    },
    {
      "cell_type": "code",
      "source": [
        "list_drop = ['attack_cat']\n",
        "network_data.drop(list_drop,axis=1,inplace=True)"
      ],
      "metadata": {
        "id": "jq04K4ofyJ2e"
      },
      "execution_count": 135,
      "outputs": []
    },
    {
      "cell_type": "code",
      "source": [
        "network_data.shape"
      ],
      "metadata": {
        "colab": {
          "base_uri": "https://localhost:8080/"
        },
        "id": "440qHKfms-YV",
        "outputId": "3afe989f-9083-4121-f3c9-d74f5c2898f8"
      },
      "execution_count": 136,
      "outputs": [
        {
          "output_type": "execute_result",
          "data": {
            "text/plain": [
              "(2540047, 48)"
            ]
          },
          "metadata": {},
          "execution_count": 136
        }
      ]
    },
    {
      "cell_type": "code",
      "source": [
        "data_cat = network_data.select_dtypes(exclude=[np.number]) \n",
        "data_cat.describe(include='all')"
      ],
      "metadata": {
        "colab": {
          "base_uri": "https://localhost:8080/",
          "height": 175
        },
        "id": "dsXkdg4By_k1",
        "outputId": "73e06980-8455-40ae-9388-2f3bef0fb8c3"
      },
      "execution_count": 137,
      "outputs": [
        {
          "output_type": "execute_result",
          "data": {
            "text/plain": [
              "             srcip    sport          dstip   dsport    proto    state  service ct_ftp_cmd\n",
              "count      2540047  2540047        2540047  2540047  2540047  2540047  2540047    2540047\n",
              "unique          43   100341             47   128297      135       16       13         13\n",
              "top     59.166.0.4     1043  149.171.126.3       53      tcp      FIN        -           \n",
              "freq        197959   216289         197771   619538  1495074  1478689  1246397    1429879"
            ],
            "text/html": [
              "\n",
              "  <div id=\"df-5a052dde-bdf2-4d9f-9202-22f232a3f1f2\">\n",
              "    <div class=\"colab-df-container\">\n",
              "      <div>\n",
              "<style scoped>\n",
              "    .dataframe tbody tr th:only-of-type {\n",
              "        vertical-align: middle;\n",
              "    }\n",
              "\n",
              "    .dataframe tbody tr th {\n",
              "        vertical-align: top;\n",
              "    }\n",
              "\n",
              "    .dataframe thead th {\n",
              "        text-align: right;\n",
              "    }\n",
              "</style>\n",
              "<table border=\"1\" class=\"dataframe\">\n",
              "  <thead>\n",
              "    <tr style=\"text-align: right;\">\n",
              "      <th></th>\n",
              "      <th>srcip</th>\n",
              "      <th>sport</th>\n",
              "      <th>dstip</th>\n",
              "      <th>dsport</th>\n",
              "      <th>proto</th>\n",
              "      <th>state</th>\n",
              "      <th>service</th>\n",
              "      <th>ct_ftp_cmd</th>\n",
              "    </tr>\n",
              "  </thead>\n",
              "  <tbody>\n",
              "    <tr>\n",
              "      <th>count</th>\n",
              "      <td>2540047</td>\n",
              "      <td>2540047</td>\n",
              "      <td>2540047</td>\n",
              "      <td>2540047</td>\n",
              "      <td>2540047</td>\n",
              "      <td>2540047</td>\n",
              "      <td>2540047</td>\n",
              "      <td>2540047</td>\n",
              "    </tr>\n",
              "    <tr>\n",
              "      <th>unique</th>\n",
              "      <td>43</td>\n",
              "      <td>100341</td>\n",
              "      <td>47</td>\n",
              "      <td>128297</td>\n",
              "      <td>135</td>\n",
              "      <td>16</td>\n",
              "      <td>13</td>\n",
              "      <td>13</td>\n",
              "    </tr>\n",
              "    <tr>\n",
              "      <th>top</th>\n",
              "      <td>59.166.0.4</td>\n",
              "      <td>1043</td>\n",
              "      <td>149.171.126.3</td>\n",
              "      <td>53</td>\n",
              "      <td>tcp</td>\n",
              "      <td>FIN</td>\n",
              "      <td>-</td>\n",
              "      <td></td>\n",
              "    </tr>\n",
              "    <tr>\n",
              "      <th>freq</th>\n",
              "      <td>197959</td>\n",
              "      <td>216289</td>\n",
              "      <td>197771</td>\n",
              "      <td>619538</td>\n",
              "      <td>1495074</td>\n",
              "      <td>1478689</td>\n",
              "      <td>1246397</td>\n",
              "      <td>1429879</td>\n",
              "    </tr>\n",
              "  </tbody>\n",
              "</table>\n",
              "</div>\n",
              "      <button class=\"colab-df-convert\" onclick=\"convertToInteractive('df-5a052dde-bdf2-4d9f-9202-22f232a3f1f2')\"\n",
              "              title=\"Convert this dataframe to an interactive table.\"\n",
              "              style=\"display:none;\">\n",
              "        \n",
              "  <svg xmlns=\"http://www.w3.org/2000/svg\" height=\"24px\"viewBox=\"0 0 24 24\"\n",
              "       width=\"24px\">\n",
              "    <path d=\"M0 0h24v24H0V0z\" fill=\"none\"/>\n",
              "    <path d=\"M18.56 5.44l.94 2.06.94-2.06 2.06-.94-2.06-.94-.94-2.06-.94 2.06-2.06.94zm-11 1L8.5 8.5l.94-2.06 2.06-.94-2.06-.94L8.5 2.5l-.94 2.06-2.06.94zm10 10l.94 2.06.94-2.06 2.06-.94-2.06-.94-.94-2.06-.94 2.06-2.06.94z\"/><path d=\"M17.41 7.96l-1.37-1.37c-.4-.4-.92-.59-1.43-.59-.52 0-1.04.2-1.43.59L10.3 9.45l-7.72 7.72c-.78.78-.78 2.05 0 2.83L4 21.41c.39.39.9.59 1.41.59.51 0 1.02-.2 1.41-.59l7.78-7.78 2.81-2.81c.8-.78.8-2.07 0-2.86zM5.41 20L4 18.59l7.72-7.72 1.47 1.35L5.41 20z\"/>\n",
              "  </svg>\n",
              "      </button>\n",
              "      \n",
              "  <style>\n",
              "    .colab-df-container {\n",
              "      display:flex;\n",
              "      flex-wrap:wrap;\n",
              "      gap: 12px;\n",
              "    }\n",
              "\n",
              "    .colab-df-convert {\n",
              "      background-color: #E8F0FE;\n",
              "      border: none;\n",
              "      border-radius: 50%;\n",
              "      cursor: pointer;\n",
              "      display: none;\n",
              "      fill: #1967D2;\n",
              "      height: 32px;\n",
              "      padding: 0 0 0 0;\n",
              "      width: 32px;\n",
              "    }\n",
              "\n",
              "    .colab-df-convert:hover {\n",
              "      background-color: #E2EBFA;\n",
              "      box-shadow: 0px 1px 2px rgba(60, 64, 67, 0.3), 0px 1px 3px 1px rgba(60, 64, 67, 0.15);\n",
              "      fill: #174EA6;\n",
              "    }\n",
              "\n",
              "    [theme=dark] .colab-df-convert {\n",
              "      background-color: #3B4455;\n",
              "      fill: #D2E3FC;\n",
              "    }\n",
              "\n",
              "    [theme=dark] .colab-df-convert:hover {\n",
              "      background-color: #434B5C;\n",
              "      box-shadow: 0px 1px 3px 1px rgba(0, 0, 0, 0.15);\n",
              "      filter: drop-shadow(0px 1px 2px rgba(0, 0, 0, 0.3));\n",
              "      fill: #FFFFFF;\n",
              "    }\n",
              "  </style>\n",
              "\n",
              "      <script>\n",
              "        const buttonEl =\n",
              "          document.querySelector('#df-5a052dde-bdf2-4d9f-9202-22f232a3f1f2 button.colab-df-convert');\n",
              "        buttonEl.style.display =\n",
              "          google.colab.kernel.accessAllowed ? 'block' : 'none';\n",
              "\n",
              "        async function convertToInteractive(key) {\n",
              "          const element = document.querySelector('#df-5a052dde-bdf2-4d9f-9202-22f232a3f1f2');\n",
              "          const dataTable =\n",
              "            await google.colab.kernel.invokeFunction('convertToInteractive',\n",
              "                                                     [key], {});\n",
              "          if (!dataTable) return;\n",
              "\n",
              "          const docLinkHtml = 'Like what you see? Visit the ' +\n",
              "            '<a target=\"_blank\" href=https://colab.research.google.com/notebooks/data_table.ipynb>data table notebook</a>'\n",
              "            + ' to learn more about interactive tables.';\n",
              "          element.innerHTML = '';\n",
              "          dataTable['output_type'] = 'display_data';\n",
              "          await google.colab.output.renderOutput(dataTable, element);\n",
              "          const docLink = document.createElement('div');\n",
              "          docLink.innerHTML = docLinkHtml;\n",
              "          element.appendChild(docLink);\n",
              "        }\n",
              "      </script>\n",
              "    </div>\n",
              "  </div>\n",
              "  "
            ]
          },
          "metadata": {},
          "execution_count": 137
        }
      ]
    },
    {
      "cell_type": "code",
      "source": [
        "for feature in data_cat.columns:\n",
        "    le = LabelEncoder()\n",
        "    network_data[feature]= network_data[feature].astype(str)\n",
        "    network_data[feature] = le.fit_transform( network_data[feature])"
      ],
      "metadata": {
        "id": "s7UUYLpZzm7x"
      },
      "execution_count": 138,
      "outputs": []
    },
    {
      "cell_type": "code",
      "source": [
        "network_data.isnull().sum().to_numpy()"
      ],
      "metadata": {
        "colab": {
          "base_uri": "https://localhost:8080/"
        },
        "id": "ynmt98Q1l3zg",
        "outputId": "152344c5-b1a8-4b95-9adb-1633cf77db16"
      },
      "execution_count": 139,
      "outputs": [
        {
          "output_type": "execute_result",
          "data": {
            "text/plain": [
              "array([      0,       0,       0,       0,       0,       0,       0,\n",
              "             0,       0,       0,       0,       0,       0,       0,\n",
              "             0,       0,       0,       0,       0,       0,       0,\n",
              "             0,       0,       0,       0,       0,       0,       0,\n",
              "             0,       0,       0,       0,       0,       0,       0,\n",
              "             0,       0, 1348145, 1429879,       0,       0,       0,\n",
              "             0,       0,       0,       0,       0,       0])"
            ]
          },
          "metadata": {},
          "execution_count": 139
        }
      ]
    },
    {
      "cell_type": "code",
      "source": [
        "network_data=network_data.dropna()"
      ],
      "metadata": {
        "id": "RvhJA0W7mFWj"
      },
      "execution_count": 140,
      "outputs": []
    },
    {
      "cell_type": "code",
      "source": [
        "network_data.isnull().sum().to_numpy()"
      ],
      "metadata": {
        "colab": {
          "base_uri": "https://localhost:8080/"
        },
        "id": "N_LNb66fmLOX",
        "outputId": "0973ecdd-87f9-4965-84e1-39b6fe77869e"
      },
      "execution_count": 141,
      "outputs": [
        {
          "output_type": "execute_result",
          "data": {
            "text/plain": [
              "array([0, 0, 0, 0, 0, 0, 0, 0, 0, 0, 0, 0, 0, 0, 0, 0, 0, 0, 0, 0, 0, 0,\n",
              "       0, 0, 0, 0, 0, 0, 0, 0, 0, 0, 0, 0, 0, 0, 0, 0, 0, 0, 0, 0, 0, 0,\n",
              "       0, 0, 0, 0])"
            ]
          },
          "metadata": {},
          "execution_count": 141
        }
      ]
    },
    {
      "cell_type": "code",
      "source": [
        "network_data.shape"
      ],
      "metadata": {
        "id": "WDkftfCRSPuu",
        "outputId": "a5dd3d0c-ca82-454c-8e8d-d30df010b5ec",
        "colab": {
          "base_uri": "https://localhost:8080/"
        }
      },
      "execution_count": 142,
      "outputs": [
        {
          "output_type": "execute_result",
          "data": {
            "text/plain": [
              "(1087203, 48)"
            ]
          },
          "metadata": {},
          "execution_count": 142
        }
      ]
    },
    {
      "cell_type": "code",
      "source": [
        "# make 2 seperate datasets for 2 feature labels\n",
        "data_0 = network_data[network_data['Label'] == 0]\n",
        "data_1 = network_data[network_data['Label'] == 1]\n",
        "\n",
        "# make normal feature\n",
        "y_0 = np.zeros(data_0.shape[0])\n",
        "y_normal = pd.DataFrame(y_0)\n",
        "\n",
        "# make attacked feature\n",
        "y_1 = np.ones(data_1.shape[0])\n",
        "y_attacked = pd.DataFrame(y_1)\n",
        "\n",
        "# merging the original dataframe\n",
        "X = pd.concat([data_0, data_1], sort=True)\n",
        "y = pd.concat([y_normal, y_attacked], sort=True)"
      ],
      "metadata": {
        "id": "qP1WM7er0Ys1"
      },
      "execution_count": 143,
      "outputs": []
    },
    {
      "cell_type": "code",
      "source": [
        "y_0,y_1"
      ],
      "metadata": {
        "colab": {
          "base_uri": "https://localhost:8080/"
        },
        "id": "sCypHB9W1E5W",
        "outputId": "60de99f2-b64a-44b2-89b0-2cd10e96288f"
      },
      "execution_count": 144,
      "outputs": [
        {
          "output_type": "execute_result",
          "data": {
            "text/plain": [
              "(array([0., 0., 0., ..., 0., 0., 0.]), array([1., 1., 1., ..., 1., 1., 1.]))"
            ]
          },
          "metadata": {},
          "execution_count": 144
        }
      ]
    },
    {
      "cell_type": "code",
      "source": [
        "print(X.shape)\n",
        "print(y.shape)\n",
        "X.isnull().sum().to_numpy()"
      ],
      "metadata": {
        "colab": {
          "base_uri": "https://localhost:8080/"
        },
        "id": "sbfKfidb1S15",
        "outputId": "af789516-a12b-4063-eb4e-8c1444ddc843"
      },
      "execution_count": 145,
      "outputs": [
        {
          "output_type": "stream",
          "name": "stdout",
          "text": [
            "(1087203, 48)\n",
            "(1087203, 1)\n"
          ]
        },
        {
          "output_type": "execute_result",
          "data": {
            "text/plain": [
              "array([0, 0, 0, 0, 0, 0, 0, 0, 0, 0, 0, 0, 0, 0, 0, 0, 0, 0, 0, 0, 0, 0,\n",
              "       0, 0, 0, 0, 0, 0, 0, 0, 0, 0, 0, 0, 0, 0, 0, 0, 0, 0, 0, 0, 0, 0,\n",
              "       0, 0, 0, 0])"
            ]
          },
          "metadata": {},
          "execution_count": 145
        }
      ]
    },
    {
      "cell_type": "code",
      "source": [
        "network_data.isnull().sum().to_numpy()"
      ],
      "metadata": {
        "colab": {
          "base_uri": "https://localhost:8080/"
        },
        "id": "xBgOIsEk9WSi",
        "outputId": "05910af2-3633-4f81-dd65-32402081eca9"
      },
      "execution_count": 146,
      "outputs": [
        {
          "output_type": "execute_result",
          "data": {
            "text/plain": [
              "array([0, 0, 0, 0, 0, 0, 0, 0, 0, 0, 0, 0, 0, 0, 0, 0, 0, 0, 0, 0, 0, 0,\n",
              "       0, 0, 0, 0, 0, 0, 0, 0, 0, 0, 0, 0, 0, 0, 0, 0, 0, 0, 0, 0, 0, 0,\n",
              "       0, 0, 0, 0])"
            ]
          },
          "metadata": {},
          "execution_count": 146
        }
      ]
    },
    {
      "cell_type": "code",
      "source": [
        "from sklearn.utils import resample\n",
        "\n",
        "data_0_resample = resample(data_0, n_samples=30000, \n",
        "                           random_state=123, replace=True)\n",
        "data_1_resample = resample(data_1, n_samples=30000, \n",
        "                           random_state=123, replace=True)\n"
      ],
      "metadata": {
        "id": "CxfLAoaC-H1p"
      },
      "execution_count": 147,
      "outputs": []
    },
    {
      "cell_type": "code",
      "source": [
        "train_dataset = pd.concat([data_0_resample, data_1_resample])\n",
        "train_dataset.head(5)"
      ],
      "metadata": {
        "colab": {
          "base_uri": "https://localhost:8080/",
          "height": 270
        },
        "id": "r0zesv4r-Rcg",
        "outputId": "62f1f4cc-ddca-41e4-d97c-cda00fcb9863"
      },
      "execution_count": 148,
      "outputs": [
        {
          "output_type": "execute_result",
          "data": {
            "text/plain": [
              "         srcip  sport  dstip  dsport  proto  state       dur  sbytes  dbytes  sttl  dttl  sloss  dloss  service         Sload         Dload  Spkts  Dpkts  swin  dwin       stcpb       dtcpb  smeansz  dmeansz  trans_depth  res_bdy_len         Sjit       Djit       Stime       Ltime    Sintpkt    Dintpkt    tcprtt    synack    ackdat  is_sm_ips_ports  ct_state_ttl  ct_flw_http_mthd  is_ftp_login  ct_ftp_cmd  ct_srv_src  ct_srv_dst  ct_dst_ltm  ct_src_ltm  ct_src_dport_ltm  ct_dst_sport_ltm  ct_dst_src_ltm  Label\n",
              "795845      33  20595     23   47706    114      5  0.052063    2958   32374    31    29      7     18        0  4.451530e+05  4.875170e+06     48     50   255   255  1240464839  1240735509       62      647            0            0     0.000000  66.978012  1421960148  1421960148   1.100894   1.050980  0.000684  0.000561  0.000123                0             0               0.0           0.0           1           4           4           3           3                 1                 1               1      0\n",
              "300084      41  26713     27   63476    120      2  0.001757     528     304    31    29      0      0        0  1.803073e+06  1.038133e+06      4      4     0     0           0           0      132       76            0            0     0.650538   0.280968  1421939573  1421939573   0.463000   0.203667  0.000000  0.000000  0.000000                0             0               0.0           0.0           1           5           6           2           2                 1                 1               2      0\n",
              "30440       28  24555     10   46242    120      6  0.000011     104       0   254     0      0      0        0  3.781818e+07  0.000000e+00      2      0     0     0           0           0       52        0            0            0     0.000000   0.000000  1421928573  1421928573   0.011000   0.000000  0.000000  0.000000  0.000000                0             2               0.0           0.0           1          14          14           5           5                 5                 1               5      0\n",
              "216493      40  35484     27   46132    114      5  0.004555    1470    1728    31    29      5      4        0  2.465862e+06  2.818880e+06     22     14   255   255   663716757   664043135       67      123            0            0    13.299853   0.379383  1421935687  1421935687   0.216905   0.290615  0.000763  0.000622  0.000141                0             0               0.0           0.0           1           5           3           4           1                 1                 1               1      0\n",
              "1013018     35  27527     23   12108    114      5  0.887698    2934    3742    31    29     11     15        3  2.593675e+04  3.310135e+04     52     54   255   255  3313217151  3310035329       56       69            0            0  1593.290145  53.076668  1421969597  1421969598  17.399391  16.739133  0.000653  0.000519  0.000134                0             0               0.0           1.0           2           2           1           4          10                 1                 1               2      0"
            ],
            "text/html": [
              "\n",
              "  <div id=\"df-c650dc2d-20ed-4694-844b-e826982ace42\">\n",
              "    <div class=\"colab-df-container\">\n",
              "      <div>\n",
              "<style scoped>\n",
              "    .dataframe tbody tr th:only-of-type {\n",
              "        vertical-align: middle;\n",
              "    }\n",
              "\n",
              "    .dataframe tbody tr th {\n",
              "        vertical-align: top;\n",
              "    }\n",
              "\n",
              "    .dataframe thead th {\n",
              "        text-align: right;\n",
              "    }\n",
              "</style>\n",
              "<table border=\"1\" class=\"dataframe\">\n",
              "  <thead>\n",
              "    <tr style=\"text-align: right;\">\n",
              "      <th></th>\n",
              "      <th>srcip</th>\n",
              "      <th>sport</th>\n",
              "      <th>dstip</th>\n",
              "      <th>dsport</th>\n",
              "      <th>proto</th>\n",
              "      <th>state</th>\n",
              "      <th>dur</th>\n",
              "      <th>sbytes</th>\n",
              "      <th>dbytes</th>\n",
              "      <th>sttl</th>\n",
              "      <th>dttl</th>\n",
              "      <th>sloss</th>\n",
              "      <th>dloss</th>\n",
              "      <th>service</th>\n",
              "      <th>Sload</th>\n",
              "      <th>Dload</th>\n",
              "      <th>Spkts</th>\n",
              "      <th>Dpkts</th>\n",
              "      <th>swin</th>\n",
              "      <th>dwin</th>\n",
              "      <th>stcpb</th>\n",
              "      <th>dtcpb</th>\n",
              "      <th>smeansz</th>\n",
              "      <th>dmeansz</th>\n",
              "      <th>trans_depth</th>\n",
              "      <th>res_bdy_len</th>\n",
              "      <th>Sjit</th>\n",
              "      <th>Djit</th>\n",
              "      <th>Stime</th>\n",
              "      <th>Ltime</th>\n",
              "      <th>Sintpkt</th>\n",
              "      <th>Dintpkt</th>\n",
              "      <th>tcprtt</th>\n",
              "      <th>synack</th>\n",
              "      <th>ackdat</th>\n",
              "      <th>is_sm_ips_ports</th>\n",
              "      <th>ct_state_ttl</th>\n",
              "      <th>ct_flw_http_mthd</th>\n",
              "      <th>is_ftp_login</th>\n",
              "      <th>ct_ftp_cmd</th>\n",
              "      <th>ct_srv_src</th>\n",
              "      <th>ct_srv_dst</th>\n",
              "      <th>ct_dst_ltm</th>\n",
              "      <th>ct_src_ltm</th>\n",
              "      <th>ct_src_dport_ltm</th>\n",
              "      <th>ct_dst_sport_ltm</th>\n",
              "      <th>ct_dst_src_ltm</th>\n",
              "      <th>Label</th>\n",
              "    </tr>\n",
              "  </thead>\n",
              "  <tbody>\n",
              "    <tr>\n",
              "      <th>795845</th>\n",
              "      <td>33</td>\n",
              "      <td>20595</td>\n",
              "      <td>23</td>\n",
              "      <td>47706</td>\n",
              "      <td>114</td>\n",
              "      <td>5</td>\n",
              "      <td>0.052063</td>\n",
              "      <td>2958</td>\n",
              "      <td>32374</td>\n",
              "      <td>31</td>\n",
              "      <td>29</td>\n",
              "      <td>7</td>\n",
              "      <td>18</td>\n",
              "      <td>0</td>\n",
              "      <td>4.451530e+05</td>\n",
              "      <td>4.875170e+06</td>\n",
              "      <td>48</td>\n",
              "      <td>50</td>\n",
              "      <td>255</td>\n",
              "      <td>255</td>\n",
              "      <td>1240464839</td>\n",
              "      <td>1240735509</td>\n",
              "      <td>62</td>\n",
              "      <td>647</td>\n",
              "      <td>0</td>\n",
              "      <td>0</td>\n",
              "      <td>0.000000</td>\n",
              "      <td>66.978012</td>\n",
              "      <td>1421960148</td>\n",
              "      <td>1421960148</td>\n",
              "      <td>1.100894</td>\n",
              "      <td>1.050980</td>\n",
              "      <td>0.000684</td>\n",
              "      <td>0.000561</td>\n",
              "      <td>0.000123</td>\n",
              "      <td>0</td>\n",
              "      <td>0</td>\n",
              "      <td>0.0</td>\n",
              "      <td>0.0</td>\n",
              "      <td>1</td>\n",
              "      <td>4</td>\n",
              "      <td>4</td>\n",
              "      <td>3</td>\n",
              "      <td>3</td>\n",
              "      <td>1</td>\n",
              "      <td>1</td>\n",
              "      <td>1</td>\n",
              "      <td>0</td>\n",
              "    </tr>\n",
              "    <tr>\n",
              "      <th>300084</th>\n",
              "      <td>41</td>\n",
              "      <td>26713</td>\n",
              "      <td>27</td>\n",
              "      <td>63476</td>\n",
              "      <td>120</td>\n",
              "      <td>2</td>\n",
              "      <td>0.001757</td>\n",
              "      <td>528</td>\n",
              "      <td>304</td>\n",
              "      <td>31</td>\n",
              "      <td>29</td>\n",
              "      <td>0</td>\n",
              "      <td>0</td>\n",
              "      <td>0</td>\n",
              "      <td>1.803073e+06</td>\n",
              "      <td>1.038133e+06</td>\n",
              "      <td>4</td>\n",
              "      <td>4</td>\n",
              "      <td>0</td>\n",
              "      <td>0</td>\n",
              "      <td>0</td>\n",
              "      <td>0</td>\n",
              "      <td>132</td>\n",
              "      <td>76</td>\n",
              "      <td>0</td>\n",
              "      <td>0</td>\n",
              "      <td>0.650538</td>\n",
              "      <td>0.280968</td>\n",
              "      <td>1421939573</td>\n",
              "      <td>1421939573</td>\n",
              "      <td>0.463000</td>\n",
              "      <td>0.203667</td>\n",
              "      <td>0.000000</td>\n",
              "      <td>0.000000</td>\n",
              "      <td>0.000000</td>\n",
              "      <td>0</td>\n",
              "      <td>0</td>\n",
              "      <td>0.0</td>\n",
              "      <td>0.0</td>\n",
              "      <td>1</td>\n",
              "      <td>5</td>\n",
              "      <td>6</td>\n",
              "      <td>2</td>\n",
              "      <td>2</td>\n",
              "      <td>1</td>\n",
              "      <td>1</td>\n",
              "      <td>2</td>\n",
              "      <td>0</td>\n",
              "    </tr>\n",
              "    <tr>\n",
              "      <th>30440</th>\n",
              "      <td>28</td>\n",
              "      <td>24555</td>\n",
              "      <td>10</td>\n",
              "      <td>46242</td>\n",
              "      <td>120</td>\n",
              "      <td>6</td>\n",
              "      <td>0.000011</td>\n",
              "      <td>104</td>\n",
              "      <td>0</td>\n",
              "      <td>254</td>\n",
              "      <td>0</td>\n",
              "      <td>0</td>\n",
              "      <td>0</td>\n",
              "      <td>0</td>\n",
              "      <td>3.781818e+07</td>\n",
              "      <td>0.000000e+00</td>\n",
              "      <td>2</td>\n",
              "      <td>0</td>\n",
              "      <td>0</td>\n",
              "      <td>0</td>\n",
              "      <td>0</td>\n",
              "      <td>0</td>\n",
              "      <td>52</td>\n",
              "      <td>0</td>\n",
              "      <td>0</td>\n",
              "      <td>0</td>\n",
              "      <td>0.000000</td>\n",
              "      <td>0.000000</td>\n",
              "      <td>1421928573</td>\n",
              "      <td>1421928573</td>\n",
              "      <td>0.011000</td>\n",
              "      <td>0.000000</td>\n",
              "      <td>0.000000</td>\n",
              "      <td>0.000000</td>\n",
              "      <td>0.000000</td>\n",
              "      <td>0</td>\n",
              "      <td>2</td>\n",
              "      <td>0.0</td>\n",
              "      <td>0.0</td>\n",
              "      <td>1</td>\n",
              "      <td>14</td>\n",
              "      <td>14</td>\n",
              "      <td>5</td>\n",
              "      <td>5</td>\n",
              "      <td>5</td>\n",
              "      <td>1</td>\n",
              "      <td>5</td>\n",
              "      <td>0</td>\n",
              "    </tr>\n",
              "    <tr>\n",
              "      <th>216493</th>\n",
              "      <td>40</td>\n",
              "      <td>35484</td>\n",
              "      <td>27</td>\n",
              "      <td>46132</td>\n",
              "      <td>114</td>\n",
              "      <td>5</td>\n",
              "      <td>0.004555</td>\n",
              "      <td>1470</td>\n",
              "      <td>1728</td>\n",
              "      <td>31</td>\n",
              "      <td>29</td>\n",
              "      <td>5</td>\n",
              "      <td>4</td>\n",
              "      <td>0</td>\n",
              "      <td>2.465862e+06</td>\n",
              "      <td>2.818880e+06</td>\n",
              "      <td>22</td>\n",
              "      <td>14</td>\n",
              "      <td>255</td>\n",
              "      <td>255</td>\n",
              "      <td>663716757</td>\n",
              "      <td>664043135</td>\n",
              "      <td>67</td>\n",
              "      <td>123</td>\n",
              "      <td>0</td>\n",
              "      <td>0</td>\n",
              "      <td>13.299853</td>\n",
              "      <td>0.379383</td>\n",
              "      <td>1421935687</td>\n",
              "      <td>1421935687</td>\n",
              "      <td>0.216905</td>\n",
              "      <td>0.290615</td>\n",
              "      <td>0.000763</td>\n",
              "      <td>0.000622</td>\n",
              "      <td>0.000141</td>\n",
              "      <td>0</td>\n",
              "      <td>0</td>\n",
              "      <td>0.0</td>\n",
              "      <td>0.0</td>\n",
              "      <td>1</td>\n",
              "      <td>5</td>\n",
              "      <td>3</td>\n",
              "      <td>4</td>\n",
              "      <td>1</td>\n",
              "      <td>1</td>\n",
              "      <td>1</td>\n",
              "      <td>1</td>\n",
              "      <td>0</td>\n",
              "    </tr>\n",
              "    <tr>\n",
              "      <th>1013018</th>\n",
              "      <td>35</td>\n",
              "      <td>27527</td>\n",
              "      <td>23</td>\n",
              "      <td>12108</td>\n",
              "      <td>114</td>\n",
              "      <td>5</td>\n",
              "      <td>0.887698</td>\n",
              "      <td>2934</td>\n",
              "      <td>3742</td>\n",
              "      <td>31</td>\n",
              "      <td>29</td>\n",
              "      <td>11</td>\n",
              "      <td>15</td>\n",
              "      <td>3</td>\n",
              "      <td>2.593675e+04</td>\n",
              "      <td>3.310135e+04</td>\n",
              "      <td>52</td>\n",
              "      <td>54</td>\n",
              "      <td>255</td>\n",
              "      <td>255</td>\n",
              "      <td>3313217151</td>\n",
              "      <td>3310035329</td>\n",
              "      <td>56</td>\n",
              "      <td>69</td>\n",
              "      <td>0</td>\n",
              "      <td>0</td>\n",
              "      <td>1593.290145</td>\n",
              "      <td>53.076668</td>\n",
              "      <td>1421969597</td>\n",
              "      <td>1421969598</td>\n",
              "      <td>17.399391</td>\n",
              "      <td>16.739133</td>\n",
              "      <td>0.000653</td>\n",
              "      <td>0.000519</td>\n",
              "      <td>0.000134</td>\n",
              "      <td>0</td>\n",
              "      <td>0</td>\n",
              "      <td>0.0</td>\n",
              "      <td>1.0</td>\n",
              "      <td>2</td>\n",
              "      <td>2</td>\n",
              "      <td>1</td>\n",
              "      <td>4</td>\n",
              "      <td>10</td>\n",
              "      <td>1</td>\n",
              "      <td>1</td>\n",
              "      <td>2</td>\n",
              "      <td>0</td>\n",
              "    </tr>\n",
              "  </tbody>\n",
              "</table>\n",
              "</div>\n",
              "      <button class=\"colab-df-convert\" onclick=\"convertToInteractive('df-c650dc2d-20ed-4694-844b-e826982ace42')\"\n",
              "              title=\"Convert this dataframe to an interactive table.\"\n",
              "              style=\"display:none;\">\n",
              "        \n",
              "  <svg xmlns=\"http://www.w3.org/2000/svg\" height=\"24px\"viewBox=\"0 0 24 24\"\n",
              "       width=\"24px\">\n",
              "    <path d=\"M0 0h24v24H0V0z\" fill=\"none\"/>\n",
              "    <path d=\"M18.56 5.44l.94 2.06.94-2.06 2.06-.94-2.06-.94-.94-2.06-.94 2.06-2.06.94zm-11 1L8.5 8.5l.94-2.06 2.06-.94-2.06-.94L8.5 2.5l-.94 2.06-2.06.94zm10 10l.94 2.06.94-2.06 2.06-.94-2.06-.94-.94-2.06-.94 2.06-2.06.94z\"/><path d=\"M17.41 7.96l-1.37-1.37c-.4-.4-.92-.59-1.43-.59-.52 0-1.04.2-1.43.59L10.3 9.45l-7.72 7.72c-.78.78-.78 2.05 0 2.83L4 21.41c.39.39.9.59 1.41.59.51 0 1.02-.2 1.41-.59l7.78-7.78 2.81-2.81c.8-.78.8-2.07 0-2.86zM5.41 20L4 18.59l7.72-7.72 1.47 1.35L5.41 20z\"/>\n",
              "  </svg>\n",
              "      </button>\n",
              "      \n",
              "  <style>\n",
              "    .colab-df-container {\n",
              "      display:flex;\n",
              "      flex-wrap:wrap;\n",
              "      gap: 12px;\n",
              "    }\n",
              "\n",
              "    .colab-df-convert {\n",
              "      background-color: #E8F0FE;\n",
              "      border: none;\n",
              "      border-radius: 50%;\n",
              "      cursor: pointer;\n",
              "      display: none;\n",
              "      fill: #1967D2;\n",
              "      height: 32px;\n",
              "      padding: 0 0 0 0;\n",
              "      width: 32px;\n",
              "    }\n",
              "\n",
              "    .colab-df-convert:hover {\n",
              "      background-color: #E2EBFA;\n",
              "      box-shadow: 0px 1px 2px rgba(60, 64, 67, 0.3), 0px 1px 3px 1px rgba(60, 64, 67, 0.15);\n",
              "      fill: #174EA6;\n",
              "    }\n",
              "\n",
              "    [theme=dark] .colab-df-convert {\n",
              "      background-color: #3B4455;\n",
              "      fill: #D2E3FC;\n",
              "    }\n",
              "\n",
              "    [theme=dark] .colab-df-convert:hover {\n",
              "      background-color: #434B5C;\n",
              "      box-shadow: 0px 1px 3px 1px rgba(0, 0, 0, 0.15);\n",
              "      filter: drop-shadow(0px 1px 2px rgba(0, 0, 0, 0.3));\n",
              "      fill: #FFFFFF;\n",
              "    }\n",
              "  </style>\n",
              "\n",
              "      <script>\n",
              "        const buttonEl =\n",
              "          document.querySelector('#df-c650dc2d-20ed-4694-844b-e826982ace42 button.colab-df-convert');\n",
              "        buttonEl.style.display =\n",
              "          google.colab.kernel.accessAllowed ? 'block' : 'none';\n",
              "\n",
              "        async function convertToInteractive(key) {\n",
              "          const element = document.querySelector('#df-c650dc2d-20ed-4694-844b-e826982ace42');\n",
              "          const dataTable =\n",
              "            await google.colab.kernel.invokeFunction('convertToInteractive',\n",
              "                                                     [key], {});\n",
              "          if (!dataTable) return;\n",
              "\n",
              "          const docLinkHtml = 'Like what you see? Visit the ' +\n",
              "            '<a target=\"_blank\" href=https://colab.research.google.com/notebooks/data_table.ipynb>data table notebook</a>'\n",
              "            + ' to learn more about interactive tables.';\n",
              "          element.innerHTML = '';\n",
              "          dataTable['output_type'] = 'display_data';\n",
              "          await google.colab.output.renderOutput(dataTable, element);\n",
              "          const docLink = document.createElement('div');\n",
              "          docLink.innerHTML = docLinkHtml;\n",
              "          element.appendChild(docLink);\n",
              "        }\n",
              "      </script>\n",
              "    </div>\n",
              "  </div>\n",
              "  "
            ]
          },
          "metadata": {},
          "execution_count": 148
        }
      ]
    },
    {
      "cell_type": "code",
      "source": [
        "# viewing the distribution of intrusion attacks in our dataset \n",
        "plt.figure(figsize=(10, 8))\n",
        "circle = plt.Circle((0, 0), 0.7, color='white')\n",
        "plt.title('Intrusion Attack Type Distribution')\n",
        "plt.pie(train_dataset['Label'].value_counts(), labels=['Normal', 'Attacked'], colors=['blue', 'magenta'])\n",
        "p = plt.gcf()\n",
        "p.gca().add_artist(circle)"
      ],
      "metadata": {
        "colab": {
          "base_uri": "https://localhost:8080/",
          "height": 499
        },
        "id": "MrWdDsB7-101",
        "outputId": "c8f2823a-8205-4f1d-ce18-839f8fcca7c3"
      },
      "execution_count": 149,
      "outputs": [
        {
          "output_type": "execute_result",
          "data": {
            "text/plain": [
              "<matplotlib.patches.Circle at 0x7ff64e5b0400>"
            ]
          },
          "metadata": {},
          "execution_count": 149
        },
        {
          "output_type": "display_data",
          "data": {
            "text/plain": [
              "<Figure size 720x576 with 1 Axes>"
            ],
            "image/png": "[encoded data removed]"
          },
          "metadata": {}
        }
      ]
    },
    {
      "cell_type": "code",
      "source": [
        "test_dataset = train_dataset.sample(frac=0.1)\n",
        "target_train = train_dataset['Label']\n",
        "target_test = test_dataset['Label']\n",
        "target_train.unique(), target_test.unique()"
      ],
      "metadata": {
        "colab": {
          "base_uri": "https://localhost:8080/"
        },
        "id": "OG3f1lK5_TiY",
        "outputId": "3db9d828-1d32-4224-a4e3-631c3b177ad7"
      },
      "execution_count": 150,
      "outputs": [
        {
          "output_type": "execute_result",
          "data": {
            "text/plain": [
              "(array([0, 1]), array([1, 0]))"
            ]
          },
          "metadata": {},
          "execution_count": 150
        }
      ]
    },
    {
      "cell_type": "code",
      "source": [
        "y_train = to_categorical(target_train, num_classes=2)\n",
        "y_test = to_categorical(target_test, num_classes=2)"
      ],
      "metadata": {
        "id": "T-J-EEXF_aXQ"
      },
      "execution_count": 151,
      "outputs": []
    },
    {
      "cell_type": "code",
      "source": [
        "y_train,y_test"
      ],
      "metadata": {
        "colab": {
          "base_uri": "https://localhost:8080/"
        },
        "id": "WkZtrem5_zQZ",
        "outputId": "3dc518fe-db36-43f0-f14f-b8194000c285"
      },
      "execution_count": 152,
      "outputs": [
        {
          "output_type": "execute_result",
          "data": {
            "text/plain": [
              "(array([[1., 0.],\n",
              "        [1., 0.],\n",
              "        [1., 0.],\n",
              "        ...,\n",
              "        [0., 1.],\n",
              "        [0., 1.],\n",
              "        [0., 1.]], dtype=float32), array([[0., 1.],\n",
              "        [0., 1.],\n",
              "        [1., 0.],\n",
              "        ...,\n",
              "        [1., 0.],\n",
              "        [1., 0.],\n",
              "        [0., 1.]], dtype=float32))"
            ]
          },
          "metadata": {},
          "execution_count": 152
        }
      ]
    },
    {
      "cell_type": "code",
      "source": [
        "X_train = train_dataset.iloc[:, :-1].values\n",
        "X_test = test_dataset.iloc[:, :-1].values\n"
      ],
      "metadata": {
        "id": "mzzOzKRfAdEu"
      },
      "execution_count": 153,
      "outputs": []
    },
    {
      "cell_type": "code",
      "source": [
        "print(X_train.shape)\n",
        "print(X_test.shape)\n",
        "print(y_train.shape)\n",
        "print(y_test.shape)"
      ],
      "metadata": {
        "colab": {
          "base_uri": "https://localhost:8080/"
        },
        "id": "3nHt0ESoAy4q",
        "outputId": "3bf62fef-2837-4097-b57c-d21077815e41"
      },
      "execution_count": 154,
      "outputs": [
        {
          "output_type": "stream",
          "name": "stdout",
          "text": [
            "(60000, 47)\n",
            "(6000, 47)\n",
            "(60000, 2)\n",
            "(6000, 2)\n"
          ]
        }
      ]
    },
    {
      "cell_type": "code",
      "source": [
        "# reshape the data for CNN\n",
        "X_train = X_train.reshape(len(X_train), X_train.shape[1], 1)\n",
        "X_test = X_test.reshape(len(X_test), X_test.shape[1], 1)\n",
        "X_train.shape, X_test.shape"
      ],
      "metadata": {
        "colab": {
          "base_uri": "https://localhost:8080/"
        },
        "id": "QV5bFC8rA7mh",
        "outputId": "20a7b2b0-f180-4b09-b17f-bc9068ebae60"
      },
      "execution_count": 155,
      "outputs": [
        {
          "output_type": "execute_result",
          "data": {
            "text/plain": [
              "((60000, 47, 1), (6000, 47, 1))"
            ]
          },
          "metadata": {},
          "execution_count": 155
        }
      ]
    },
    {
      "cell_type": "code",
      "source": [
        "# making the deep learning function\n",
        "def model():\n",
        "    model = Sequential()\n",
        "    model.add(Conv1D(filters=64, kernel_size=6, activation='relu', \n",
        "                    padding='same', input_shape=(47, 1)))\n",
        "    model.add(BatchNormalization())\n",
        "    \n",
        "    # adding a pooling layer\n",
        "    model.add(MaxPooling1D(pool_size=(3), strides=2, padding='same'))\n",
        "    \n",
        "    model.add(Conv1D(filters=64, kernel_size=6, activation='relu', \n",
        "                    padding='same', input_shape=(47, 1)))\n",
        "    model.add(BatchNormalization())\n",
        "    model.add(MaxPooling1D(pool_size=(3), strides=2, padding='same'))\n",
        "    \n",
        "    model.add(Conv1D(filters=64, kernel_size=6, activation='relu', \n",
        "                    padding='same', input_shape=(47, 1)))\n",
        "    model.add(BatchNormalization())\n",
        "    model.add(MaxPooling1D(pool_size=(3), strides=2, padding='same'))\n",
        "    \n",
        "    model.add(Flatten())\n",
        "    model.add(Dense(64, activation='relu'))\n",
        "    model.add(Dense(64, activation='relu'))\n",
        "    model.add(Dense(2, activation='softmax'))\n",
        "    \n",
        "    model.compile(loss='binary_crossentropy', optimizer='adam', metrics=['accuracy'])\n",
        "    return model"
      ],
      "metadata": {
        "id": "HLeXpvEaBC8x"
      },
      "execution_count": 156,
      "outputs": []
    },
    {
      "cell_type": "code",
      "source": [
        "model = model()\n",
        "model.summary()"
      ],
      "metadata": {
        "colab": {
          "base_uri": "https://localhost:8080/"
        },
        "id": "PpsZHqsoBGSA",
        "outputId": "82907e90-82fb-4b06-b8ea-18b06c5658bd"
      },
      "execution_count": 157,
      "outputs": [
        {
          "output_type": "stream",
          "name": "stdout",
          "text": [
            "Model: \"sequential_3\"\n",
            "_________________________________________________________________\n",
            " Layer (type)                Output Shape              Param #   \n",
            "=================================================================\n",
            " conv1d_9 (Conv1D)           (None, 47, 64)            448       \n",
            "                                                                 \n",
            " batch_normalization_9 (Batc  (None, 47, 64)           256       \n",
            " hNormalization)                                                 \n",
            "                                                                 \n",
            " max_pooling1d_9 (MaxPooling  (None, 24, 64)           0         \n",
            " 1D)                                                             \n",
            "                                                                 \n",
            " conv1d_10 (Conv1D)          (None, 24, 64)            24640     \n",
            "                                                                 \n",
            " batch_normalization_10 (Bat  (None, 24, 64)           256       \n",
            " chNormalization)                                                \n",
            "                                                                 \n",
            " max_pooling1d_10 (MaxPoolin  (None, 12, 64)           0         \n",
            " g1D)                                                            \n",
            "                                                                 \n",
            " conv1d_11 (Conv1D)          (None, 12, 64)            24640     \n",
            "                                                                 \n",
            " batch_normalization_11 (Bat  (None, 12, 64)           256       \n",
            " chNormalization)                                                \n",
            "                                                                 \n",
            " max_pooling1d_11 (MaxPoolin  (None, 6, 64)            0         \n",
            " g1D)                                                            \n",
            "                                                                 \n",
            " flatten_3 (Flatten)         (None, 384)               0         \n",
            "                                                                 \n",
            " dense_9 (Dense)             (None, 64)                24640     \n",
            "                                                                 \n",
            " dense_10 (Dense)            (None, 64)                4160      \n",
            "                                                                 \n",
            " dense_11 (Dense)            (None, 2)                 130       \n",
            "                                                                 \n",
            "=================================================================\n",
            "Total params: 79,426\n",
            "Trainable params: 79,042\n",
            "Non-trainable params: 384\n",
            "_________________________________________________________________\n"
          ]
        }
      ]
    },
    {
      "cell_type": "code",
      "source": [
        "logger = CSVLogger('logs.csv', append=True)\n",
        "his = model.fit(X_train, y_train, epochs=50, batch_size=32, \n",
        "          validation_data=(X_test, y_test), callbacks=[logger])"
      ],
      "metadata": {
        "id": "G1RjAMJRBMmx",
        "colab": {
          "base_uri": "https://localhost:8080/"
        },
        "outputId": "b77b35ed-91fd-40f1-b6fd-f92c041a4bd5"
      },
      "execution_count": 158,
      "outputs": [
        {
          "output_type": "stream",
          "name": "stdout",
          "text": [
            "Epoch 1/50\n",
            "1875/1875 [==============================] - 31s 16ms/step - loss: 0.0921 - accuracy: 0.9625 - val_loss: 1.8866 - val_accuracy: 0.5025\n",
            "Epoch 2/50\n",
            "1875/1875 [==============================] - 29s 16ms/step - loss: 0.0194 - accuracy: 0.9959 - val_loss: 1.4963 - val_accuracy: 0.5025\n",
            "Epoch 3/50\n",
            "1875/1875 [==============================] - 29s 16ms/step - loss: 0.0505 - accuracy: 0.9811 - val_loss: 1.8044 - val_accuracy: 0.5025\n",
            "Epoch 4/50\n",
            "1875/1875 [==============================] - 30s 16ms/step - loss: 0.2586 - accuracy: 0.9052 - val_loss: 0.3092 - val_accuracy: 0.9038\n",
            "Epoch 5/50\n",
            "1875/1875 [==============================] - 31s 17ms/step - loss: 0.2313 - accuracy: 0.9241 - val_loss: 0.2170 - val_accuracy: 0.9250\n",
            "Epoch 6/50\n",
            "1875/1875 [==============================] - 31s 16ms/step - loss: 0.2184 - accuracy: 0.9261 - val_loss: 0.2058 - val_accuracy: 0.9335\n",
            "Epoch 7/50\n",
            "1875/1875 [==============================] - 30s 16ms/step - loss: 0.2110 - accuracy: 0.9297 - val_loss: 0.1924 - val_accuracy: 0.9382\n",
            "Epoch 8/50\n",
            "1875/1875 [==============================] - 31s 16ms/step - loss: 0.2038 - accuracy: 0.9318 - val_loss: 0.2277 - val_accuracy: 0.9153\n",
            "Epoch 9/50\n",
            "1875/1875 [==============================] - 32s 17ms/step - loss: 0.1989 - accuracy: 0.9334 - val_loss: 0.1842 - val_accuracy: 0.9423\n",
            "Epoch 10/50\n",
            "1875/1875 [==============================] - 34s 18ms/step - loss: 0.1990 - accuracy: 0.9337 - val_loss: 0.2091 - val_accuracy: 0.9327\n",
            "Epoch 11/50\n",
            "1875/1875 [==============================] - 29s 16ms/step - loss: 0.2020 - accuracy: 0.9320 - val_loss: 0.2675 - val_accuracy: 0.8860\n",
            "Epoch 12/50\n",
            "1875/1875 [==============================] - 31s 17ms/step - loss: 0.1967 - accuracy: 0.9347 - val_loss: 0.2125 - val_accuracy: 0.9307\n",
            "Epoch 13/50\n",
            "1875/1875 [==============================] - 30s 16ms/step - loss: 0.1947 - accuracy: 0.9344 - val_loss: 0.2293 - val_accuracy: 0.9117\n",
            "Epoch 14/50\n",
            "1875/1875 [==============================] - 29s 15ms/step - loss: 0.1945 - accuracy: 0.9342 - val_loss: 0.4072 - val_accuracy: 0.8397\n",
            "Epoch 15/50\n",
            "1875/1875 [==============================] - 28s 15ms/step - loss: 0.1913 - accuracy: 0.9350 - val_loss: 0.2450 - val_accuracy: 0.9023\n",
            "Epoch 16/50\n",
            "1875/1875 [==============================] - 27s 15ms/step - loss: 0.1979 - accuracy: 0.9350 - val_loss: 0.1918 - val_accuracy: 0.9380\n",
            "Epoch 17/50\n",
            "1875/1875 [==============================] - 27s 15ms/step - loss: 0.1961 - accuracy: 0.9359 - val_loss: 0.2157 - val_accuracy: 0.9120\n",
            "Epoch 18/50\n",
            "1875/1875 [==============================] - 28s 15ms/step - loss: 0.1909 - accuracy: 0.9364 - val_loss: 0.1833 - val_accuracy: 0.9417\n",
            "Epoch 19/50\n",
            "1875/1875 [==============================] - 28s 15ms/step - loss: 0.1896 - accuracy: 0.9367 - val_loss: 0.1945 - val_accuracy: 0.9335\n",
            "Epoch 20/50\n",
            "1875/1875 [==============================] - 29s 15ms/step - loss: 0.1854 - accuracy: 0.9378 - val_loss: 0.2004 - val_accuracy: 0.9385\n",
            "Epoch 21/50\n",
            "1875/1875 [==============================] - 27s 15ms/step - loss: 0.1844 - accuracy: 0.9378 - val_loss: 0.1744 - val_accuracy: 0.9427\n",
            "Epoch 22/50\n",
            "1875/1875 [==============================] - 27s 15ms/step - loss: 0.1930 - accuracy: 0.9356 - val_loss: 0.1892 - val_accuracy: 0.9377\n",
            "Epoch 23/50\n",
            "1875/1875 [==============================] - 27s 15ms/step - loss: 0.1825 - accuracy: 0.9378 - val_loss: 0.2085 - val_accuracy: 0.9218\n",
            "Epoch 24/50\n",
            "1875/1875 [==============================] - 27s 15ms/step - loss: 0.1794 - accuracy: 0.9377 - val_loss: 0.1883 - val_accuracy: 0.9368\n",
            "Epoch 25/50\n",
            "1875/1875 [==============================] - 27s 15ms/step - loss: 0.1898 - accuracy: 0.9358 - val_loss: 0.2446 - val_accuracy: 0.9327\n",
            "Epoch 26/50\n",
            "1875/1875 [==============================] - 28s 15ms/step - loss: 0.1813 - accuracy: 0.9383 - val_loss: 0.4235 - val_accuracy: 0.7328\n",
            "Epoch 27/50\n",
            "1875/1875 [==============================] - 28s 15ms/step - loss: 0.1783 - accuracy: 0.9386 - val_loss: 0.4344 - val_accuracy: 0.7487\n",
            "Epoch 28/50\n",
            "1875/1875 [==============================] - 27s 15ms/step - loss: 0.1713 - accuracy: 0.9382 - val_loss: 0.4375 - val_accuracy: 0.7982\n",
            "Epoch 29/50\n",
            "1875/1875 [==============================] - 27s 15ms/step - loss: 0.1673 - accuracy: 0.9384 - val_loss: 0.1797 - val_accuracy: 0.9430\n",
            "Epoch 30/50\n",
            "1875/1875 [==============================] - 27s 15ms/step - loss: 0.1645 - accuracy: 0.9380 - val_loss: 0.2000 - val_accuracy: 0.9320\n",
            "Epoch 31/50\n",
            "1875/1875 [==============================] - 33s 18ms/step - loss: 0.1690 - accuracy: 0.9377 - val_loss: 0.2706 - val_accuracy: 0.8058\n",
            "Epoch 32/50\n",
            "1875/1875 [==============================] - 28s 15ms/step - loss: 0.1640 - accuracy: 0.9392 - val_loss: 0.2651 - val_accuracy: 0.9438\n",
            "Epoch 33/50\n",
            "1875/1875 [==============================] - 28s 15ms/step - loss: 0.1617 - accuracy: 0.9394 - val_loss: 0.4380 - val_accuracy: 0.7065\n",
            "Epoch 34/50\n",
            "1875/1875 [==============================] - 28s 15ms/step - loss: 0.1634 - accuracy: 0.9390 - val_loss: 0.3578 - val_accuracy: 0.8035\n",
            "Epoch 35/50\n",
            "1875/1875 [==============================] - 28s 15ms/step - loss: 0.1763 - accuracy: 0.9376 - val_loss: 0.1847 - val_accuracy: 0.9393\n",
            "Epoch 36/50\n",
            "1875/1875 [==============================] - 29s 15ms/step - loss: 0.1701 - accuracy: 0.9387 - val_loss: 0.1888 - val_accuracy: 0.9342\n",
            "Epoch 37/50\n",
            "1875/1875 [==============================] - 28s 15ms/step - loss: 0.1633 - accuracy: 0.9396 - val_loss: 0.1783 - val_accuracy: 0.9397\n",
            "Epoch 38/50\n",
            "1875/1875 [==============================] - 28s 15ms/step - loss: 0.1607 - accuracy: 0.9389 - val_loss: 0.2227 - val_accuracy: 0.9300\n",
            "Epoch 39/50\n",
            "1875/1875 [==============================] - 28s 15ms/step - loss: 0.1641 - accuracy: 0.9388 - val_loss: 0.2861 - val_accuracy: 0.8775\n",
            "Epoch 40/50\n",
            "1875/1875 [==============================] - 28s 15ms/step - loss: 0.1908 - accuracy: 0.9383 - val_loss: 0.1737 - val_accuracy: 0.9452\n",
            "Epoch 41/50\n",
            "1875/1875 [==============================] - 28s 15ms/step - loss: 0.1873 - accuracy: 0.9390 - val_loss: 0.1787 - val_accuracy: 0.9425\n",
            "Epoch 42/50\n",
            "1875/1875 [==============================] - 29s 16ms/step - loss: 0.1857 - accuracy: 0.9390 - val_loss: 0.1716 - val_accuracy: 0.9448\n",
            "Epoch 43/50\n",
            "1875/1875 [==============================] - 28s 15ms/step - loss: 0.1844 - accuracy: 0.9391 - val_loss: 0.2154 - val_accuracy: 0.9213\n",
            "Epoch 44/50\n",
            "1875/1875 [==============================] - 29s 15ms/step - loss: 0.1829 - accuracy: 0.9399 - val_loss: 0.1665 - val_accuracy: 0.9460\n",
            "Epoch 45/50\n",
            "1875/1875 [==============================] - 28s 15ms/step - loss: 0.1814 - accuracy: 0.9395 - val_loss: 0.1834 - val_accuracy: 0.9403\n",
            "Epoch 46/50\n",
            "1875/1875 [==============================] - 29s 16ms/step - loss: 0.1838 - accuracy: 0.9391 - val_loss: 0.1718 - val_accuracy: 0.9430\n",
            "Epoch 47/50\n",
            "1875/1875 [==============================] - 29s 16ms/step - loss: 0.1712 - accuracy: 0.9392 - val_loss: 0.1762 - val_accuracy: 0.9453\n",
            "Epoch 48/50\n",
            "1875/1875 [==============================] - 29s 15ms/step - loss: 0.1646 - accuracy: 0.9395 - val_loss: 0.1859 - val_accuracy: 0.9422\n",
            "Epoch 49/50\n",
            "1875/1875 [==============================] - 28s 15ms/step - loss: 0.1720 - accuracy: 0.9395 - val_loss: 0.1909 - val_accuracy: 0.9455\n",
            "Epoch 50/50\n",
            "1875/1875 [==============================] - 28s 15ms/step - loss: 0.1686 - accuracy: 0.9394 - val_loss: 0.1720 - val_accuracy: 0.9443\n"
          ]
        }
      ]
    },
    {
      "cell_type": "code",
      "source": [
        "# check the model performance on test data\n",
        "scores = model.evaluate(X_test, y_test)\n",
        "print(\"%s: %.2f%%\" % (model.metrics_names[1], scores[1] * 100))\n",
        "\n",
        "model.save(\"model.h5\")\n",
        "print(\"Saved model to disk\")"
      ],
      "metadata": {
        "colab": {
          "base_uri": "https://localhost:8080/"
        },
        "id": "AONiGSQO0UYf",
        "outputId": "f9fedf4c-082e-4432-9427-b89306f96742"
      },
      "execution_count": 159,
      "outputs": [
        {
          "output_type": "stream",
          "name": "stdout",
          "text": [
            "188/188 [==============================] - 1s 5ms/step - loss: 0.1720 - accuracy: 0.9443\n",
            "accuracy: 94.43%\n",
            "Saved model to disk\n"
          ]
        }
      ]
    },
    {
      "cell_type": "code",
      "source": [
        "# check history of model\n",
        "history = his.history\n",
        "history.keys()"
      ],
      "metadata": {
        "colab": {
          "base_uri": "https://localhost:8080/"
        },
        "id": "mGaRYChX0afq",
        "outputId": "0a5820c9-9d3b-4dd2-874f-5c73e27a6a45"
      },
      "execution_count": 160,
      "outputs": [
        {
          "output_type": "execute_result",
          "data": {
            "text/plain": [
              "dict_keys(['loss', 'accuracy', 'val_loss', 'val_accuracy'])"
            ]
          },
          "metadata": {},
          "execution_count": 160
        }
      ]
    },
    {
      "cell_type": "code",
      "source": [
        "epochs = range(1, len(history['loss']) + 1)\n",
        "acc = history['accuracy']\n",
        "loss = history['loss']\n",
        "val_acc = history['val_accuracy']\n",
        "val_loss = history['val_loss']\n",
        "\n",
        "# visualize training and val accuracy\n",
        "plt.figure(figsize=(20, 10))\n",
        "plt.title('Training and Validation Accuracy (CNN)')\n",
        "plt.xlabel('Epochs')\n",
        "plt.ylabel('Accuracy')\n",
        "plt.plot(epochs, acc, label='accuracy')\n",
        "plt.plot(epochs, val_acc, label='val_acc')\n",
        "plt.legend()\n",
        "\n",
        "# visualize train and val loss\n",
        "plt.figure(figsize=(20, 10))\n",
        "plt.title('Training and Validation Loss(CNN)')\n",
        "plt.xlabel('Epochs')\n",
        "plt.ylabel('Loss')\n",
        "plt.plot(epochs, loss, label='loss', color='g')\n",
        "plt.plot(epochs, val_loss, label='val_loss', color='r')\n",
        "plt.legend()"
      ],
      "metadata": {
        "colab": {
          "base_uri": "https://localhost:8080/",
          "height": 1000
        },
        "id": "EVwrm9Uk0fib",
        "outputId": "42056264-e4ce-4730-8e1b-80451fcac414"
      },
      "execution_count": 161,
      "outputs": [
        {
          "output_type": "execute_result",
          "data": {
            "text/plain": [
              "<matplotlib.legend.Legend at 0x7ff64afd5100>"
            ]
          },
          "metadata": {},
          "execution_count": 161
        },
        {
          "output_type": "display_data",
          "data": {
            "text/plain": [
              "<Figure size 1440x720 with 1 Axes>"
            ],
            "image/png": "[encoded data removed]"
          },
          "metadata": {}
        },
        {
          "output_type": "display_data",
          "data": {
            "text/plain": [
              "<Figure size 1440x720 with 1 Axes>"
            ],
            "image/png": "[encoded data removed]"
          },
          "metadata": {}
        }
      ]
    },
    {
      "cell_type": "code",
      "source": [
        "from sklearn.metrics import accuracy_score, confusion_matrix, precision_recall_fscore_support,  roc_curve, auc\n",
        "import tensorflow as tf \n",
        "#model = tf.keras.models.load_model('/'+model_name+'.h5')\n",
        "\n",
        "y_pred = model.predict(X_test)\n",
        "\n",
        "y_pred_cm  = np.argmax(y_pred, axis=1)\n",
        "y_test_cm  = np.argmax(y_test, axis=1)\n",
        "\n",
        "cm = confusion_matrix(y_test_cm, y_pred_cm) \n",
        "\n",
        "group_counts = [\"{0:0.0f}\".format(value) for value in cm.flatten()]\n",
        "\n",
        "group_percentages = [\"{0:.2%}\".format(value) for value in cm.flatten()/np.sum(cm)]\n",
        "\n",
        "labels = [f\"{v1}\\n{v2}\" for v1, v2 in zip(group_counts,group_percentages)]\n",
        "\n",
        "labels = np.asarray(labels).reshape(2,2)\n",
        "\n",
        "label = ['normal','attacked']\n",
        "\n",
        "plt.figure(figsize=(3,3))\n",
        "sns.heatmap(cm, xticklabels=label, yticklabels=label, annot=labels, fmt='', cmap=\"Blues\", vmin = 0.2);\n",
        "# plt.title('Confusion Matrix for'+ modelName+' model')\n",
        "plt.ylabel('True Class')\n",
        "plt.xlabel('Predicted Class')\n",
        "# plt.savefig('./'+modelName+'_CM.png')\n",
        "plt.show()"
      ],
      "metadata": {
        "colab": {
          "base_uri": "https://localhost:8080/",
          "height": 247
        },
        "id": "AfZFjPMc0osf",
        "outputId": "35f47770-3bd0-4a5a-9567-bd30c8c8653a"
      },
      "execution_count": 162,
      "outputs": [
        {
          "output_type": "stream",
          "name": "stdout",
          "text": [
            "188/188 [==============================] - 1s 5ms/step\n"
          ]
        },
        {
          "output_type": "display_data",
          "data": {
            "text/plain": [
              "<Figure size 216x216 with 2 Axes>"
            ],
            "image/png": "[encoded data removed]"
          },
          "metadata": {}
        }
      ]
    },
    {
      "cell_type": "code",
      "source": [
        "from sklearn.metrics import classification_report\n",
        "\n",
        "\n",
        "print(classification_report(y_test_cm, y_pred_cm, target_names= ['normal','attacked']))\n",
        "                            \n",
        "loss, accuracy = model.evaluate(X_test, y_test, verbose=1)\n",
        "print(\"Test: accuracy = %f  ;  loss = %f\" % (accuracy, loss))\n",
        "\n",
        "# with open('./'+modelName+'_CR.txt','a') as f:\n",
        "#     f.write(classification_report(y_test_cm, y_pred_cm, target_names= ['benign','ftp_bruteforce','ssh_bruteforce']))\n",
        "#     f.write(\"Test: accuracy = %f  ;  loss = %f\" % (accuracy, loss))"
      ],
      "metadata": {
        "colab": {
          "base_uri": "https://localhost:8080/"
        },
        "id": "3xQN2Gvi1IM3",
        "outputId": "19a0559b-656e-40ef-e847-dd85e144f1a4"
      },
      "execution_count": 163,
      "outputs": [
        {
          "output_type": "stream",
          "name": "stdout",
          "text": [
            "              precision    recall  f1-score   support\n",
            "\n",
            "      normal       0.94      0.95      0.94      2985\n",
            "    attacked       0.95      0.94      0.94      3015\n",
            "\n",
            "    accuracy                           0.94      6000\n",
            "   macro avg       0.94      0.94      0.94      6000\n",
            "weighted avg       0.94      0.94      0.94      6000\n",
            "\n",
            "188/188 [==============================] - 1s 5ms/step - loss: 0.1720 - accuracy: 0.9443\n",
            "Test: accuracy = 0.944333  ;  loss = 0.172026\n"
          ]
        }
      ]
    }
  ]
}